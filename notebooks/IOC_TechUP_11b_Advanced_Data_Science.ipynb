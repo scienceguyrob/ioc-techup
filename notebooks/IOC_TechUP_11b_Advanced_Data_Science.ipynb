{
  "nbformat": 4,
  "nbformat_minor": 0,
  "metadata": {
    "colab": {
      "name": "IOC_TechUP_11b_Advanced_Data_Science.ipynb",
      "provenance": [],
      "collapsed_sections": []
    },
    "kernelspec": {
      "name": "python3",
      "display_name": "Python 3"
    }
  },
  "cells": [
    {
      "cell_type": "markdown",
      "metadata": {
        "id": "XPNuMFH9lhTb",
        "colab_type": "text"
      },
      "source": [
        "# IOC Techup 11b - Activities Supporting: Advanced Data Science\n",
        "\n",
        "Author: Dr. Robert Lyon\n",
        "\n",
        "Contact: robert.lyon@edgehill.ac.uk (www.scienceguyrob.com)\n",
        "\n",
        "Institution: Edge Hill University\n",
        "\n",
        "Version: 1.0\n",
        "    \n",
        "## Code & License\n",
        "The code and the contents of this notebook are released under the GNU GENERAL PUBLIC LICENSE, Version 3, 29 June 2007. The videos are exempt from this, please check the license provided by the video content owners if you would like to use them.\n",
        "\n",
        "## Introduction\n",
        "\n",
        "This notebook has been written to support the IOC Techup-Women Module, 11b Advanced Data Science. \n",
        "\n",
        "<br/>\n",
        "\n",
        "This resource is supposed to be used in conjunction with the slides made available for the module.\n",
        "\n",
        "<br/>\n",
        "\n",
        "## What is Google Colab?\n",
        "Google Colab provides a software environment you can use to execute code. This means you don't have to setup any complicated software environments for yourself - you can simply load this site and run our activities. You'll need your own Google ID to login and use this resource to its full potential. So please, sign up for a Google account if you **do not** already have one. \n",
        "\n",
        "<br/>\n",
        "\n",
        "Some of the cells below may contain videos that you should watch, if unfamiliar with the topics covered. If a video cell seems empty (you can't see a video), hover your mouse over the cell. A play button should appear. Click that play button, and then the video should fill the cell. The eagle eyes amongst you might realise that inside these cells I'm using Python to embed some HTML code. This loads the video directly from YouTube. But you don't need to worry about those details.\n",
        "\n",
        "<br/>\n",
        "\n",
        "## Using This Resource\n",
        "1. Login to the Colab using a Google account or create one.\n",
        "2. Next we need to create **your** own copy of this resource. That way you can edit it any way you please. To do this, head up to the **\"File\"** menu at the top of the screen. Click the **\"File\"** menu.\n",
        "3. Next, click the option that says **\"Download .ipynb\"**. This will download the resource to your own personal computer.\n",
        "4. Now rename the downloaded file so that you know what it is - for example, *\"my activities.ipynb\"*. Remember to keep the file extension **\".ipynb\"** in the file name.\n",
        "5. Now we upload the renamed file to the Colab environment. To do this, click the **\"File\"** menu, then **\"Upload Notebook\"**.\n",
        "Use the file chooser that appears, to select the file you renamed.\n",
        "6. The notebook should load into your browser window. This is now **your** notebook. Any changes you make to it, will not affect anybody else. Please feel free to modify it as you wish.\n",
        "7. The notebook is made up of cells. To run the code inside the cells, we must **\"execute\"** these cells. This is easy to do. Simply hover your mouse over the left most end of a cell containing code. A small **\"play\"** button will appear. Click this play button to execute the code. \n",
        "\n",
        "<br/>\n",
        "\n",
        "I advise that you step through each cell in this notebook slowly, at your own pace. Once you understand each cell, move on. This is important as each cell builds upon the next. \n",
        "\n",
        "<br/>\n",
        "\n",
        "Remember, each cell is supposed to be executed in turn from the top to the bottom of this notebook. So, keep that in mind!\n",
        "\n",
        "<br/>\n",
        "\n",
        "---"
      ]
    },
    {
      "cell_type": "markdown",
      "metadata": {
        "id": "gTuidFs9pNZS",
        "colab_type": "text"
      },
      "source": [
        "## 1. Law of Large Numbers\n",
        "\n",
        "For once, Wikipedia has a very concise and useful description of the law of large numbers. I include this description below to get us started:\n",
        "\n",
        "<br/>\n",
        "\n",
        "\"*In probability theory, the law of large numbers is a theorem that describes the result of performing the same experiment a large number of times. According to the law, the average of the results obtained from a large number of trials should be close to the expected value, and will tend to become closer to the expected value as more trials are performed.*\"\n",
        "\n",
        "<br/>\n",
        "\n",
        "**Credit:** Wikipedia contributors. (2019, December 4). [Law of large numbers](https://en.wikipedia.org/wiki/Law_of_large_numbers). In Wikipedia, The Free Encyclopaedia. Retrieved 12:54, December 9, 2019.\n",
        "\n",
        "<br/>\n",
        "\n",
        "The law is very useful, as it allows us to guarantee stable estimations in the long term for random events and processes. In the lecture notes, we used an example of a die role. Let's recreate that experiment here in Python code. When ready, ready through the code in the cell below. It rolls a simulated die and calculates the fraction of sixes rolled for $n$ rolls. The code below accepts your input - so be sure to choose the number of rolls to simulate. Start by rolling just a few times and observe the probability of rolling a six. Then increase the number of rolls - what happens?\n",
        "\n",
        "<br/>\n",
        "\n",
        "First, I define a dice roll function. Execute the code when ready.\n",
        "\n",
        "<br/>\n"
      ]
    },
    {
      "cell_type": "code",
      "metadata": {
        "id": "BJXac2AKESYW",
        "colab_type": "code",
        "colab": {}
      },
      "source": [
        "import numpy as np\n",
        "\n",
        "def die_roll():\n",
        "  \"\"\"\n",
        "  Simple function that simulates a die role.\n",
        "  Uses the in-built python random function to \n",
        "  simulate random behaviour.\n",
        "\n",
        "  Input:\n",
        "        None.\n",
        "\n",
        "  Output:\n",
        "        A random integer number between 1 and 6 inclusive.\n",
        "  \"\"\"\n",
        "  rand = np.random.randint(low=1,high=7) # Use a numpy function for this.\n",
        "\n",
        "  return rand"
      ],
      "execution_count": 0,
      "outputs": []
    },
    {
      "cell_type": "markdown",
      "metadata": {
        "id": "QxJst38sEdw0",
        "colab_type": "text"
      },
      "source": [
        "\n",
        "<br/>\n",
        "\n",
        "Next, we use the die roll function. Execute the code when ready.\n",
        "\n",
        "<br/>"
      ]
    },
    {
      "cell_type": "code",
      "metadata": {
        "id": "8EcAnXa0v7ZQ",
        "colab_type": "code",
        "outputId": "b63a5f35-0bc5-4d5c-a769-1b77d4710ad4",
        "colab": {
          "base_uri": "https://localhost:8080/",
          "height": 102
        }
      },
      "source": [
        "\n",
        "# A list that will count the rolls of each number\n",
        "rolled = [0, 0, 0, 0, 0, 0]\n",
        "\n",
        "# Number of trials to run\n",
        "trials = 0;\n",
        "\n",
        "# Get this value from the user.\n",
        "trials = int(input('How many trials would you like? '))\n",
        "\n",
        "# Now run the trials using a for loop.\n",
        "for i in range(0,trials):\n",
        "\n",
        "  # Roll the simulated die.\n",
        "  roll_value = die_roll()\n",
        "\n",
        "  # We have a list which counts the die roll outcomes.\n",
        "  # We increment values in the list that correspond to\n",
        "  # the outcome. For example, if this is our list:\n",
        "  #\n",
        "  #   index = 0  1  2  3  4  5\n",
        "  #           |  |  |  |  |  |\n",
        "  #           v  v  v  v  v  v\n",
        "  # rolled = [3, 5, 2, 6, 2, 0,]\n",
        "  #\n",
        "  # Then the number of sixes rolled so far is 5. We can\n",
        "  # increment the number of sixes rolled via,\n",
        "  #\n",
        "  # rolled[5] +=1\n",
        "  #\n",
        "  # This is all we are doing below.\n",
        "  rolled[roll_value-1] += 1\n",
        "\n",
        "print(\"What are the roll outcomes: \", rolled)\n",
        "\n",
        "fraction_of_sixes = rolled[5]/trials # We use the index 5, due to zero indexing.\n",
        "\n",
        "print(\"Fraction of sixes as decimal: \", fraction_of_sixes)\n",
        "prob_of_6 = fraction_of_sixes * 100.0 # Compute percentage.\n",
        "\n",
        "print(\"Observed probability of 6 occurring: \", prob_of_6, \"%.\")\n",
        "print(\"Exact probability of 6 occurring: 16.66666...% or approx. 16.67%.\")\n"
      ],
      "execution_count": 0,
      "outputs": [
        {
          "output_type": "stream",
          "text": [
            "How many trials would you like? 1000\n",
            "What are the roll outcomes:  [182, 172, 154, 161, 168, 163]\n",
            "Fraction of sixes as decimal:  0.163\n",
            "Observed probability of 6 occurring:  16.3 %.\n",
            "Exact probability of 6 occurring: 16.66666...% or approx. 16.67%.\n"
          ],
          "name": "stdout"
        }
      ]
    },
    {
      "cell_type": "markdown",
      "metadata": {
        "id": "w-OU3S8h1Gja",
        "colab_type": "text"
      },
      "source": [
        "<br/>\n",
        "\n",
        "We can modify this example, so that we compute the probability of rolling a six after each die roll. This requires mostly the same code as before, but with just some minor changes. Below I set the number of trials to 100, but you can experiment with this value for yourself. You should find that as you increase the number of trials, the proportion of sixes slowly approaches 16.67%. Execute the code when ready. \n",
        "\n",
        "<br/>"
      ]
    },
    {
      "cell_type": "code",
      "metadata": {
        "id": "E218Jwwz1Ud3",
        "colab_type": "code",
        "outputId": "625c5c6a-2eff-4ac9-ef59-9628af862097",
        "colab": {
          "base_uri": "https://localhost:8080/",
          "height": 85
        }
      },
      "source": [
        "# A list that will count the rolls of each number\n",
        "rolled = [0, 0, 0, 0, 0, 0]\n",
        "prob_6 = []\n",
        "# Number of trials to run\n",
        "trials = 100;\n",
        "\n",
        "# Now run the trials using a for loop.\n",
        "for i in range(0,trials):\n",
        "\n",
        "  # Roll the simulated die.\n",
        "  roll_value = die_roll()\n",
        "\n",
        "  # We have a list which counts the die roll outcomes.\n",
        "  # We increment values in the list that correspond to\n",
        "  # the outcome. For example, if this is our list:\n",
        "  #\n",
        "  #   index = 0  1  2  3  4  5\n",
        "  #           |  |  |  |  |  |\n",
        "  #           v  v  v  v  v  v\n",
        "  # rolled = [3, 5, 2, 6, 2, 0,]\n",
        "  #\n",
        "  # Then the number of sixes rolled so far is 5. We can\n",
        "  # increment the number of sixes rolled via,\n",
        "  #\n",
        "  # rolled[5] +=1\n",
        "  #\n",
        "  # This is all we are doing below.\n",
        "  rolled[roll_value-1] += 1\n",
        "\n",
        "  # Calculate the probability of rolling a six\n",
        "  fraction_of_sixes = rolled[5] / trials\n",
        "\n",
        "  # Store this in a variable.\n",
        "  prob_6.append(fraction_of_sixes)\n",
        "\n",
        "print(\"What are the roll outcomes: \", rolled)\n",
        "\n",
        "fraction_of_sixes = rolled[5]/trials # We use the index 5, due to zero indexing.\n",
        "\n",
        "print(\"Fraction of sixes as decimal: \", fraction_of_sixes)\n",
        "prob_of_6 = fraction_of_sixes * 100.0 # Compute percentage.\n",
        "\n",
        "print(\"Observed probability of 6 occurring: \", prob_of_6, \"%.\")\n",
        "print(\"Exact probability of 6 occurring: 16.66666...% or approx. 16.67%.\")\n"
      ],
      "execution_count": 0,
      "outputs": [
        {
          "output_type": "stream",
          "text": [
            "What are the roll outcomes:  [16, 21, 15, 11, 14, 23]\n",
            "Fraction of sixes as decimal:  0.23\n",
            "Observed probability of 6 occurring:  23.0 %.\n",
            "Exact probability of 6 occurring: 16.66666...% or approx. 16.67%.\n"
          ],
          "name": "stdout"
        }
      ]
    },
    {
      "cell_type": "markdown",
      "metadata": {
        "id": "7oDLbhQu1_b7",
        "colab_type": "text"
      },
      "source": [
        "<br/>\n",
        "\n",
        "Now we plot the data obtained above. Run the cell below, each time you run the cell above to see how the plot is updated. Execute the code when ready.\n",
        "\n",
        "<br/>"
      ]
    },
    {
      "cell_type": "code",
      "metadata": {
        "id": "E0oeFOLR2AO5",
        "colab_type": "code",
        "outputId": "b3260e61-0c00-440b-9f22-53d36fc1d02b",
        "colab": {
          "base_uri": "https://localhost:8080/",
          "height": 312
        }
      },
      "source": [
        "%pylab inline \n",
        "import matplotlib.pyplot as plt\n",
        "\n",
        "# Here I plot the contents of the variable holding\n",
        "# the probability of landing a six.\n",
        "\n",
        "figure(1)\n",
        "plot(prob_6, 'r') # The 'r' parameter tells matplotlib to plot in red.\n",
        "xlabel('Bin')\n",
        "ylabel('Probability')\n",
        "title(\"A plot of the probability of rolling a 6 over time.\")\n",
        "show()\n"
      ],
      "execution_count": 0,
      "outputs": [
        {
          "output_type": "stream",
          "text": [
            "Populating the interactive namespace from numpy and matplotlib\n"
          ],
          "name": "stdout"
        },
        {
          "output_type": "display_data",
          "data": {
            "image/png": "[encoded data removed]",
            "text/plain": [
              "<Figure size 432x288 with 1 Axes>"
            ]
          },
          "metadata": {
            "tags": []
          }
        }
      ]
    },
    {
      "cell_type": "markdown",
      "metadata": {
        "id": "1hGLpQnjG6cW",
        "colab_type": "text"
      },
      "source": [
        "<br/>\n",
        "\n",
        "As we can see in the plot, the probability approaches 16.67% over time.\n",
        "\n",
        "<br/>"
      ]
    },
    {
      "cell_type": "markdown",
      "metadata": {
        "id": "EOJXR9WHpeyb",
        "colab_type": "text"
      },
      "source": [
        "### Activity 1.1"
      ]
    },
    {
      "cell_type": "markdown",
      "metadata": {
        "id": "PfxWDvF3Hsda",
        "colab_type": "text"
      },
      "source": [
        "<br/>\n",
        "\n",
        "In the lecture notes (part 4, slide 26), we discussed rolling two die at the same time, and summing the result. The table below gives the probability of achieving each potential sum. The most common outcome is a sum of 7, with a probability of $\\frac{6}{36}$\n",
        "\n",
        "<br/>\n",
        "\n",
        "|Sum | 2 | 3 | 4 | 5 | 6 | 7 | 8 | 9 | 10 | 11 | 12 |\n",
        "|----|---|---|---|---|---|---|---|---|----|----| ---|\n",
        "|Prob. | $\\frac{1}{36}$ | $\\frac{2}{36}$ | $\\frac{3}{36}$ | $\\frac{4}{36}$ | $\\frac{5}{36}$ | $\\frac{6}{36}$ | $\\frac{5}{36}$ | $\\frac{4}{36}$ | $\\frac{3}{36}$ | $\\frac{2}{36}$ | $\\frac{1}{36}$ |\n",
        "\n",
        "<br/>\n",
        "\n",
        "Can you show experimentally that this is indeed the case? The aim of this activity is to produce some code that shows that for $n$ trials, the probability of landing a 7 is approximately $\\frac{6}{36}$. I suggest doing two things:\n",
        "\n",
        "<br/>\n",
        "\n",
        "1. Write a function for the double die roll.\n",
        "2. Write some code that runs the experiment for $n$ trials.\n",
        "\n",
        "<br/>\n",
        "\n",
        "Feel free to modify the code provided above to solve this problem. When done print the output. If you get stuck, an answer is provided below - but only look at the answer if you really need to!\n",
        "\n",
        "<br/>\n"
      ]
    },
    {
      "cell_type": "code",
      "metadata": {
        "id": "Cp6QpO6NpXTq",
        "colab_type": "code",
        "colab": {}
      },
      "source": [
        "# Please write your code here...\n",
        "import random\n",
        "\n",
        "def sum_double_die_roll():\n",
        "  \"\"\"\n",
        "  Simple function that simulates the roll of two dice,\n",
        "  and adds up the result. Uses the in-built python random\n",
        "  function to simulate random behaviour.\n",
        "\n",
        "  Input:\n",
        "        None.\n",
        "\n",
        "  Output:\n",
        "        A value in the range 2 and 12 inclusive.\n",
        "  \"\"\"\n",
        "\n",
        "  return None # Fix me.\n",
        "\n",
        "# The code that runs your experiment goes here.\n",
        "# ..."
      ],
      "execution_count": 0,
      "outputs": []
    },
    {
      "cell_type": "markdown",
      "metadata": {
        "id": "Xdk3g05Jpnnh",
        "colab_type": "text"
      },
      "source": [
        "### Activity 1.1 Solution"
      ]
    },
    {
      "cell_type": "code",
      "metadata": {
        "id": "2fgehSVepqOa",
        "colab_type": "code",
        "outputId": "7d14c8b6-0860-450e-eb66-e876545a28ec",
        "colab": {
          "base_uri": "https://localhost:8080/",
          "height": 85
        }
      },
      "source": [
        "import numpy as np\n",
        "\n",
        "def sum_double_die_roll():\n",
        "  \"\"\"\n",
        "  Simple function that simulates the roll of two dice,\n",
        "  and adds up the result. Uses the in-built python random\n",
        "  function to simulate random behaviour.\n",
        "\n",
        "  Input:\n",
        "        None.\n",
        "\n",
        "  Output:\n",
        "        A value in the range 2 and 12 inclusive.\n",
        "  \"\"\"\n",
        "  # Use a numpy function for this.\n",
        "  die_1 = np.random.randint(low=1,high=7) \n",
        "  die_2 = np.random.randint(low=1,high=7) \n",
        "  return die_1 + die_2\n",
        "\n",
        "# The code that runs the experiment goes here.\n",
        "\n",
        "\n",
        "# A list that will count the rolls of each number\n",
        "rolled = [0, 0, 0, 0, 0, 0,\n",
        "          0, 0, 0, 0, 0,]\n",
        "\n",
        "# Number of trials to run\n",
        "trials = 100;\n",
        "\n",
        "# Now run the trials using a for loop.\n",
        "for i in range(0,trials):\n",
        "\n",
        "  # Roll the simulated die.\n",
        "  roll_value = sum_double_die_roll()\n",
        "\n",
        "  # Do you understand why I use an index - 2 here?\n",
        "  #\n",
        "  #   index = 0  1  2  3  4  5              10\n",
        "  #           |  |  |  |  |  |              |\n",
        "  #           v  v  v  v  v  v        ....  v\n",
        "  # rolled = [3, 5, 2, 6, 2, 0, 3, 5, 2, 6, 0,]\n",
        "  #\n",
        "  # So rolled[10] gives us the number of twelves rolled.\n",
        "  rolled[roll_value-2] += 1\n",
        "\n",
        "print(\"What are the roll outcomes: \", rolled)\n",
        "\n",
        "fraction_of_sevens = rolled[5]/trials # We use the index 5, due to zero indexing.\n",
        "\n",
        "print(\"Fraction of sevens as decimal: \", fraction_of_sevens)\n",
        "prob_of_7 = fraction_of_sevens * 100.0 # Compute percentage.\n",
        "\n",
        "print(\"Observed probability of 7 occurring: \", prob_of_7, \"%.\")\n",
        "print(\"Exact probability of 7 occurring: 16.66666...% or approx. 16.67%.\")\n",
        "\n",
        "rolled = None # I set this variable to none, to cleanup explicitly.\n"
      ],
      "execution_count": 0,
      "outputs": [
        {
          "output_type": "stream",
          "text": [
            "What are the roll outcomes:  [1, 5, 11, 8, 12, 16, 15, 13, 8, 7, 4]\n",
            "Fraction of sevens as decimal:  0.16\n",
            "Observed probability of 7 occurring:  16.0 %.\n",
            "Exact probability of 7 occurring: 16.66666...% or approx. 16.67%.\n"
          ],
          "name": "stdout"
        }
      ]
    },
    {
      "cell_type": "markdown",
      "metadata": {
        "id": "VQuGjPQ1r2TH",
        "colab_type": "text"
      },
      "source": [
        "\n",
        "<br/>\n",
        "\n",
        "That's it for Section 1.\n"
      ]
    },
    {
      "cell_type": "markdown",
      "metadata": {
        "id": "k149gALApYYX",
        "colab_type": "text"
      },
      "source": [
        "<br/>\n",
        "\n",
        "---\n"
      ]
    },
    {
      "cell_type": "markdown",
      "metadata": {
        "colab_type": "text",
        "id": "HlCnHagqsPQ_"
      },
      "source": [
        "## 2. Data Visualisation\n",
        "\n",
        "<br/>\n",
        "\n",
        "As data scientists, we often need to present our data to others, to explain our results. There are a few standard methods for data visualisation that you should be familiar with. Before we start visualising data, we going to need to create some to work with. We can do this using the in-built features of libraries such as *numpy*. In the cell below, we create some normally distributed data with a mean of 0, and a standard deviation of 1. This is the standard normal distribution. Execute the code when ready.\n",
        "\n",
        "<br/>"
      ]
    },
    {
      "cell_type": "code",
      "metadata": {
        "id": "rL8Pj8K-B-Z8",
        "colab_type": "code",
        "outputId": "906639c8-2ff1-4067-e2a0-dc7f3ef1aced",
        "colab": {
          "base_uri": "https://localhost:8080/",
          "height": 34
        }
      },
      "source": [
        "\n",
        "np.random.seed(1) # Initiate a random number generator.\n",
        "\n",
        "mu    = 0.0 # The mean of the data.\n",
        "sigma = 1.0 # The standard deviation of the data.\n",
        "n     = 100 # The number of random samples to take.\n",
        "\n",
        "# Create the data\n",
        "data_1 = np.random.normal(size = n, loc = mu, scale = sigma)\n",
        "\n",
        "print(\"Data samples created: \", len(data_1))"
      ],
      "execution_count": 0,
      "outputs": [
        {
          "output_type": "stream",
          "text": [
            "Data samples created:  100\n"
          ],
          "name": "stdout"
        }
      ]
    },
    {
      "cell_type": "markdown",
      "metadata": {
        "id": "8yGN4ciaB-n5",
        "colab_type": "text"
      },
      "source": [
        "<br/>\n",
        "\n",
        "The code above may appear confusing. What is it really doing? Well, what we are doing is using *numpy* to create an ideal normal distribution, mean a mean of 0 and a standard deviation of 1. We then use a random number to generate $n$ samples from this distribution.  Since the data is normally distributed, we know that random samples from this distribution will occur with some probability. The mean, at the centre of the distribution, is the most likely value to occur. Let’s see what happens if we plot this data – will this description make sense? Execute the code when ready.\n",
        "\n",
        "<br/>"
      ]
    },
    {
      "cell_type": "code",
      "metadata": {
        "id": "mUbsUyk3HFf9",
        "colab_type": "code",
        "outputId": "30282ef1-9260-4da1-b179-3fb900530bc8",
        "colab": {
          "base_uri": "https://localhost:8080/",
          "height": 312
        }
      },
      "source": [
        "%pylab inline \n",
        "import matplotlib.pyplot as plt\n",
        "\n",
        "# Here I plot the contents of the vgenerated data.\n",
        "figure(2)\n",
        "plot(data_1, 'r') # The 'r' parameter tells matplotlib to plot in red.\n",
        "xlabel('Bin')\n",
        "ylabel('Value')\n",
        "title(\"A plot of our generated data.\")\n",
        "show()"
      ],
      "execution_count": 0,
      "outputs": [
        {
          "output_type": "stream",
          "text": [
            "Populating the interactive namespace from numpy and matplotlib\n"
          ],
          "name": "stdout"
        },
        {
          "output_type": "display_data",
          "data": {
            "image/png": "[encoded data removed]",
            "text/plain": [
              "<Figure size 432x288 with 1 Axes>"
            ]
          },
          "metadata": {
            "tags": []
          }
        }
      ]
    },
    {
      "cell_type": "markdown",
      "metadata": {
        "id": "5EtzSHkOHQTB",
        "colab_type": "text"
      },
      "source": [
        "<br/>\n",
        "\n",
        "When we plot this data, it doesn't look like much. It all looks pretty random, just fluctuating between the values minus two, and two. This type of line plot isn't the best way of visualising this data - instead we'll try to create a histogram, to see what patterns there are in the data. Execute the code when ready.\n",
        "\n",
        "<br/>\n"
      ]
    },
    {
      "cell_type": "code",
      "metadata": {
        "id": "rb5TNbxzOgzD",
        "colab_type": "code",
        "outputId": "52ea1aff-0c32-4998-8b7e-ff0182b61bb6",
        "colab": {
          "base_uri": "https://localhost:8080/",
          "height": 312
        }
      },
      "source": [
        "%pylab inline \n",
        "import matplotlib.pyplot as plt\n",
        "\n",
        "# Here I plot a histogram of the data.\n",
        "figure(3)\n",
        "hist(data_1, bins=50) # The 'bins' parameter determine how many bars will be used.\n",
        "xlabel('Bin')\n",
        "ylabel('Value')\n",
        "title(\"A plot of our generated data.\")\n",
        "show()"
      ],
      "execution_count": 0,
      "outputs": [
        {
          "output_type": "stream",
          "text": [
            "Populating the interactive namespace from numpy and matplotlib\n"
          ],
          "name": "stdout"
        },
        {
          "output_type": "display_data",
          "data": {
            "image/png": "[encoded data removed]",
            "text/plain": [
              "<Figure size 432x288 with 1 Axes>"
            ]
          },
          "metadata": {
            "tags": []
          }
        }
      ]
    },
    {
      "cell_type": "markdown",
      "metadata": {
        "id": "hEXZnRUIIKH6",
        "colab_type": "text"
      },
      "source": [
        "<br/>\n",
        "\n",
        "We can see that our data is starting to look like a bell-shaped curve. It doesn’t look perfect, as we’ve only sampled $n=100$ times from the distribution. If we take more samples, due to the law of large numbers, we’ll start to see what the real probability distribution looks like. Let’s try that now. Let’s create many more samples, then create a histogram of the data. Execute the code when ready.\n",
        "\n",
        "<br/>\n"
      ]
    },
    {
      "cell_type": "code",
      "metadata": {
        "id": "mItr4R0jInto",
        "colab_type": "code",
        "outputId": "729e33b5-50d3-4515-ab43-2089f9719bb6",
        "colab": {
          "base_uri": "https://localhost:8080/",
          "height": 329
        }
      },
      "source": [
        "%pylab inline \n",
        "import matplotlib.pyplot as plt\n",
        "\n",
        "np.random.seed(1) # Initiate a random number generator.\n",
        "\n",
        "mu    = 0.0 # The mean of the data.\n",
        "sigma = 1.0 # The standard deviation of the data.\n",
        "n     = 10000 # The number of random samples to take.\n",
        "\n",
        "# Create the data\n",
        "data_1 = np.random.normal(size = n, loc = mu, scale = sigma)\n",
        "\n",
        "print(\"Data samples created: \", len(data_1))\n",
        "\n",
        "# Here I plot a histogram of the data.\n",
        "figure(4)\n",
        "hist(data_1, bins=50)# The 'bins' parameter determines how many bars will be used.\n",
        "xlabel('Bin')\n",
        "ylabel('Value')\n",
        "title(\"A plot of our generated data (n=10,000).\")\n",
        "show()"
      ],
      "execution_count": 0,
      "outputs": [
        {
          "output_type": "stream",
          "text": [
            "Populating the interactive namespace from numpy and matplotlib\n",
            "Data samples created:  10000\n"
          ],
          "name": "stdout"
        },
        {
          "output_type": "display_data",
          "data": {
            "image/png": "[encoded data removed]",
            "text/plain": [
              "<Figure size 432x288 with 1 Axes>"
            ]
          },
          "metadata": {
            "tags": []
          }
        }
      ]
    },
    {
      "cell_type": "markdown",
      "metadata": {
        "id": "rqX4gwtRIy92",
        "colab_type": "text"
      },
      "source": [
        "<br/>\n",
        "\n",
        "The data is now starting to look very much like a normal distribution. Let’s compute the mean and standard deviation of the data to ensure the data generation procedure worked as expected. Remember, we don’t have all the data that perfectly describes the true distribution here. That is, we don’t have the population. Instead, we have a data sample – so we’ll compute the sample mean, and the sample standard deviation. Execute the code when ready.\n",
        "\n",
        "<br/>\n"
      ]
    },
    {
      "cell_type": "code",
      "metadata": {
        "id": "cOcrPF3dJFCD",
        "colab_type": "code",
        "outputId": "92a34e4b-f45d-43a4-dda8-418d32cc8459",
        "colab": {
          "base_uri": "https://localhost:8080/",
          "height": 51
        }
      },
      "source": [
        "sample_mean = np.mean(data_1)\n",
        "\n",
        "# In the code below, the 'ddof' parameter tells numpy to compute the sample\n",
        "# standard deviation. If you need the population standard deviation, simply \n",
        "# use np.std(data) without the 'ddof' parameter.\n",
        "sample_stdev = np.std(data_1, ddof=1)\n",
        "\n",
        "print(\"Sample mean: \", sample_mean)\n",
        "print(\"Sample standard deviation: \", sample_stdev)\n"
      ],
      "execution_count": 0,
      "outputs": [
        {
          "output_type": "stream",
          "text": [
            "Sample mean:  0.00977265669910497\n",
            "Sample standard deviation:  0.9988357867259919\n"
          ],
          "name": "stdout"
        }
      ]
    },
    {
      "cell_type": "markdown",
      "metadata": {
        "id": "DCoEYJOOKgrx",
        "colab_type": "text"
      },
      "source": [
        "<br/>\n",
        "\n",
        "We should find that the sample mean we compute in the cell above, is very close to 0, and the sample standard deviation very close to 1. This confirms that the data we generated is from the distribution we specified. To confirm this, we can fit a normal curve to the data. We do this in the cell below. Execute the code when ready.\n",
        "\n",
        "<br/>\n"
      ]
    },
    {
      "cell_type": "code",
      "metadata": {
        "id": "U8hoT3jbL03C",
        "colab_type": "code",
        "outputId": "6fb250a3-2c6b-4cac-a612-3ca325b3ad6a",
        "colab": {
          "base_uri": "https://localhost:8080/",
          "height": 281
        }
      },
      "source": [
        "import numpy as np\n",
        "from scipy.stats import norm\n",
        "import matplotlib.pyplot as plt\n",
        "\n",
        "# Fit a normal distribution to the data we created earlier.\n",
        "mu, std = norm.fit(data_1)\n",
        "\n",
        "# Plot the histogram. Details of this function can be found here:\n",
        "# https://matplotlib.org/3.1.1/api/_as_gen/matplotlib.pyplot.hist.html\n",
        "# Here the alpha parameter dictates how transparent the histogram will be,\n",
        "# so alpha=1.0 is zero transparency, and alpha=0.0 is completely \n",
        "# transparent.\n",
        "plt.hist(data_1, bins=50, density=True, alpha=0.6, color='g')\n",
        "\n",
        "# Now we plot what we call the probability density function, or PDF.\n",
        "xmin, xmax = plt.xlim() # Gets the max and min values in the data.\n",
        "\n",
        "# Creates equally spaced numerical values between the mix and max values. This \n",
        "# call produces an array of values. These will be used to create x-axis co-\n",
        "# ordinates, which we need to plot the normal curve. Remember to plot the curve,\n",
        "# we need x and y-axis values.\n",
        "x = np.linspace(xmin, xmax, 100) \n",
        "\n",
        "# This line creates the probability density function - this provides the y \n",
        "# values for the plot.\n",
        "y = norm.pdf(x, mu, std)\n",
        "\n",
        "# Now we plot the function over the top of the histogram.\n",
        "plt.plot(x, y, 'k', linewidth=2)\n",
        "title = (\"Fit results: mu = %.2f,  std = %.2f\" % (mu, std))\n",
        "plt.title(title)\n",
        "\n",
        "# Finally show the plot.\n",
        "plt.show()\n"
      ],
      "execution_count": 0,
      "outputs": [
        {
          "output_type": "display_data",
          "data": {
            "image/png": "[encoded data removed]",
            "text/plain": [
              "<Figure size 432x288 with 1 Axes>"
            ]
          },
          "metadata": {
            "tags": []
          }
        }
      ]
    },
    {
      "cell_type": "markdown",
      "metadata": {
        "id": "U1FDfgujNx_i",
        "colab_type": "text"
      },
      "source": [
        "<br/>\n",
        "\n",
        "Now we can see that the data does closely match the normal curve. Another way to represent this data, is to use a box and whisker plot. When ready, watch the video in the cell below, as it will explain box and whisker plots in more detail.\n",
        "\n",
        "<br/>\n",
        "\n"
      ]
    },
    {
      "cell_type": "code",
      "metadata": {
        "id": "KhmrcgrBQRqo",
        "colab_type": "code",
        "outputId": "1c9d6844-af2e-49f0-c496-5c173f1eba95",
        "colab": {
          "base_uri": "https://localhost:8080/",
          "height": 336
        }
      },
      "source": [
        "from IPython.display import IFrame\n",
        "# Then the code below actually shows the video. Don't worry about understanding\n",
        "# this code. I just include this explanation for the curious.\n",
        "IFrame(src='https://www.youtube.com/embed/mhaGAaL6Abw', width=560, height=315)"
      ],
      "execution_count": 0,
      "outputs": [
        {
          "output_type": "execute_result",
          "data": {
            "text/html": [
              "\n",
              "        <iframe\n",
              "            width=\"560\"\n",
              "            height=\"315\"\n",
              "            src=\"https://www.youtube.com/embed/mhaGAaL6Abw\"\n",
              "            frameborder=\"0\"\n",
              "            allowfullscreen\n",
              "        ></iframe>\n",
              "        "
            ],
            "text/plain": [
              "<IPython.lib.display.IFrame at 0x7f15564bb978>"
            ]
          },
          "metadata": {
            "tags": []
          },
          "execution_count": 40
        }
      ]
    },
    {
      "cell_type": "markdown",
      "metadata": {
        "id": "ucinvdZcOZvf",
        "colab_type": "text"
      },
      "source": [
        "<br/>\n",
        "\n",
        "Box and whisker plots are incredibly useful tools for quickly summarising data – make use of them when and where you can! In the cell below, I show how to generate box and whisker plots for the normal data we already generated. When ready, execute the cell below.\n",
        "\n",
        "<br/>"
      ]
    },
    {
      "cell_type": "code",
      "metadata": {
        "id": "CXKK57IWQHWm",
        "colab_type": "code",
        "outputId": "0b4cff60-b517-41f1-e3c3-cc59b1c900cc",
        "colab": {
          "base_uri": "https://localhost:8080/",
          "height": 459
        }
      },
      "source": [
        "%pylab inline \n",
        "import matplotlib.pyplot as plt\n",
        "\n",
        "# Create a figure instance\n",
        "fig = plt.figure(6, figsize=(9, 6))\n",
        "\n",
        "# Create an axes instance\n",
        "ax = fig.add_subplot(111)\n",
        "## Custom x-axis labels\n",
        "ax.set_xticklabels(['Data_1'])\n",
        "ax.set_title(\"Our normally distributed data\")\n",
        "\n",
        "# Create the boxplot\n",
        "bp = ax.boxplot(data_1)"
      ],
      "execution_count": 0,
      "outputs": [
        {
          "output_type": "stream",
          "text": [
            "Populating the interactive namespace from numpy and matplotlib\n"
          ],
          "name": "stdout"
        },
        {
          "output_type": "stream",
          "text": [
            "/usr/local/lib/python3.6/dist-packages/IPython/core/magics/pylab.py:161: UserWarning: pylab import has clobbered these variables: ['title', 'std', 'norm']\n",
            "`%matplotlib` prevents importing * from pylab and numpy\n",
            "  \"\\n`%matplotlib` prevents importing * from pylab and numpy\"\n"
          ],
          "name": "stderr"
        },
        {
          "output_type": "display_data",
          "data": {
            "image/png": "[encoded data removed]",
            "text/plain": [
              "<Figure size 648x432 with 1 Axes>"
            ]
          },
          "metadata": {
            "tags": []
          }
        }
      ]
    },
    {
      "cell_type": "markdown",
      "metadata": {
        "id": "ehUJ417AQH9Y",
        "colab_type": "text"
      },
      "source": [
        "<br/>\n",
        "\n",
        "Suppose we have more than one data source, and we want to compare them using a box and whisker plot. We can do this in python fairly simply. In the cell below, I generate some new normally distributed data. I then create a plot containing two box plots, allow the two datasets we’ve created to be compared. When ready, execute the cell below.\n",
        "\n",
        "<br/>\n",
        "\n"
      ]
    },
    {
      "cell_type": "code",
      "metadata": {
        "id": "09FEifVeQIby",
        "colab_type": "code",
        "outputId": "115a225d-bca3-498d-aee6-9fa371c26c64",
        "colab": {
          "base_uri": "https://localhost:8080/",
          "height": 408
        }
      },
      "source": [
        "%pylab inline \n",
        "import matplotlib.pyplot as plt\n",
        "\n",
        "#********************\n",
        "# Create new data...\n",
        "#********************\n",
        "\n",
        "np.random.seed(1) # Initiate a random number generator.\n",
        "\n",
        "mu    = 1.0 # The mean of the data.\n",
        "sigma = 1.2 # The standard deviation of the data.\n",
        "n     = 10000 # The number of random samples to take.\n",
        "\n",
        "# Create the data\n",
        "data_2 = np.random.normal(size = n, loc = mu, scale = sigma)\n",
        "\n",
        "#********************\n",
        "# Plot the data...\n",
        "#********************\n",
        "\n",
        "data_to_plot = [data_1, data_2]\n",
        "\n",
        "# Create a figure instance\n",
        "fig = plt.figure(7, figsize=(9, 6))\n",
        "\n",
        "# Create an axes instance\n",
        "ax = fig.add_subplot(111)\n",
        "\n",
        "ax.set_xticklabels(['Data_1', 'Data 2'])\n",
        "ax.set_title(\"Our normally distributed datasets\")\n",
        "\n",
        "# Create the boxplot\n",
        "bp = ax.boxplot(data_to_plot)"
      ],
      "execution_count": 0,
      "outputs": [
        {
          "output_type": "stream",
          "text": [
            "Populating the interactive namespace from numpy and matplotlib\n"
          ],
          "name": "stdout"
        },
        {
          "output_type": "display_data",
          "data": {
            "image/png": "[encoded data removed]",
            "text/plain": [
              "<Figure size 648x432 with 1 Axes>"
            ]
          },
          "metadata": {
            "tags": []
          }
        }
      ]
    },
    {
      "cell_type": "markdown",
      "metadata": {
        "id": "jx1ApmxTSaZz",
        "colab_type": "text"
      },
      "source": [
        "<br/>\n",
        "\n",
        "To bring our understanding full circle, let’s plot the probability density functions for both these datasets, together. The cell below contains the code that does this. When ready, execute the code.\n",
        "\n",
        "<br/>\n",
        "\n",
        "\n"
      ]
    },
    {
      "cell_type": "code",
      "metadata": {
        "id": "uf3QwGuzQeaX",
        "colab_type": "code",
        "outputId": "e69951df-4fe1-4477-e237-6f618ca30727",
        "colab": {
          "base_uri": "https://localhost:8080/",
          "height": 281
        }
      },
      "source": [
        "import numpy as np\n",
        "from scipy.stats import norm\n",
        "import matplotlib.pyplot as plt\n",
        "\n",
        "#********************\n",
        "# Plot one (data_1)\n",
        "#********************\n",
        "\n",
        "# Let's recreate the PDF for our first dataset.\n",
        "mu, std = norm.fit(data_1)\n",
        "\n",
        "# Now we plot what we call the probability density function, or PDF.\n",
        "xmin = min(data_1)\n",
        "xmax = max(data_1)\n",
        "x = np.linspace(xmin, xmax, 100) \n",
        "y = norm.pdf(x, mu, std)\n",
        "\n",
        "# Now we plot the function \n",
        "plt.plot(x, y, 'k', linewidth=2)\n",
        "\n",
        "#********************\n",
        "# Plot two (data_2)\n",
        "#********************\n",
        "\n",
        "# Let's recreate the PDF for our first dataset.\n",
        "mu, std = norm.fit(data_2)\n",
        "\n",
        "# Now we plot what we call the probability density function, or PDF.\n",
        "xmin = min(data_2)\n",
        "xmax = max(data_2)\n",
        "x = np.linspace(xmin, xmax, 100) \n",
        "y = norm.pdf(x, mu, std)\n",
        "\n",
        "# Now we plot the function \n",
        "plt.plot(x, y, 'r', linewidth=2)\n",
        "\n",
        "\n",
        "# Now add a plot title...\n",
        "title = (\"Our two distributions\")\n",
        "plt.title(title)\n",
        "\n",
        "# Finally show the plot.\n",
        "plt.show()\n",
        "\n",
        "# And clear the data\n",
        "data_1 = None # I set this variable to none, to cleanup explicitly.\n",
        "data_2 = None # I set this variable to none, to cleanup explicitly."
      ],
      "execution_count": 0,
      "outputs": [
        {
          "output_type": "display_data",
          "data": {
            "image/png": "[encoded data removed]",
            "text/plain": [
              "<Figure size 432x288 with 1 Axes>"
            ]
          },
          "metadata": {
            "tags": []
          }
        }
      ]
    },
    {
      "cell_type": "markdown",
      "metadata": {
        "id": "TTiPV-jaUH3j",
        "colab_type": "text"
      },
      "source": [
        "<br/>\n",
        "\n",
        "Before moving on, watch the video in the cell below. It will help to explain what a probability density function is – a term I’ve not yet explained.\n",
        "\n",
        "<br/>\n"
      ]
    },
    {
      "cell_type": "code",
      "metadata": {
        "id": "9CKb5tNNRAem",
        "colab_type": "code",
        "outputId": "cf8b1a6c-8596-4ca5-9799-10547e61c04c",
        "colab": {
          "base_uri": "https://localhost:8080/",
          "height": 336
        }
      },
      "source": [
        "from IPython.display import IFrame\n",
        "# Then the code below actually shows the video. Don't worry about understanding\n",
        "# this code. I just include this explanation for the curious.\n",
        "IFrame(src='https://www.youtube.com/embed/Fvi9A_tEmXQ', width=560, height=315)"
      ],
      "execution_count": 0,
      "outputs": [
        {
          "output_type": "execute_result",
          "data": {
            "text/html": [
              "\n",
              "        <iframe\n",
              "            width=\"560\"\n",
              "            height=\"315\"\n",
              "            src=\"https://www.youtube.com/embed/Fvi9A_tEmXQ\"\n",
              "            frameborder=\"0\"\n",
              "            allowfullscreen\n",
              "        ></iframe>\n",
              "        "
            ],
            "text/plain": [
              "<IPython.lib.display.IFrame at 0x7f15563155f8>"
            ]
          },
          "metadata": {
            "tags": []
          },
          "execution_count": 52
        }
      ]
    },
    {
      "cell_type": "markdown",
      "metadata": {
        "colab_type": "text",
        "id": "uuTK6trWsPRB"
      },
      "source": [
        "### Activity 2.1\n",
        "\n",
        "<br/>\n",
        "\n",
        "The aim of the following activity is to create some uniformly distributed data, calculate the sample mean of the data, and to plot the histogram and probability density function for this distribution. Before you start, please watch the video below, which will explain the uniform distribution in detail.\n",
        "\n",
        "<br/>\n",
        "\n"
      ]
    },
    {
      "cell_type": "code",
      "metadata": {
        "id": "-xc5vR-rXZzs",
        "colab_type": "code",
        "outputId": "7b083736-07f8-434d-d4d9-cf62764f6810",
        "colab": {
          "base_uri": "https://localhost:8080/",
          "height": 336
        }
      },
      "source": [
        "from IPython.display import IFrame\n",
        "# Then the code below actually shows the video. Don't worry about understanding\n",
        "# this code. I just include this explanation for the curious.\n",
        "IFrame(src='https://www.youtube.com/embed/3C9mpj-NYgo', width=560, height=315)"
      ],
      "execution_count": 0,
      "outputs": [
        {
          "output_type": "execute_result",
          "data": {
            "text/html": [
              "\n",
              "        <iframe\n",
              "            width=\"560\"\n",
              "            height=\"315\"\n",
              "            src=\"https://www.youtube.com/embed/3C9mpj-NYgo\"\n",
              "            frameborder=\"0\"\n",
              "            allowfullscreen\n",
              "        ></iframe>\n",
              "        "
            ],
            "text/plain": [
              "<IPython.lib.display.IFrame at 0x7f1556156ef0>"
            ]
          },
          "metadata": {
            "tags": []
          },
          "execution_count": 54
        }
      ]
    },
    {
      "cell_type": "markdown",
      "metadata": {
        "id": "fEvwJAoNXkOW",
        "colab_type": "text"
      },
      "source": [
        "<br/>\n",
        "\n",
        "Now remember, there are three aims here:\n",
        "\n",
        "1.  Create some uniformly distributed data. Create data over the range 1 to 6.\n",
        "2.  Calculate the sample mean.\n",
        "3.  Plot the histogram for this distribution.\n",
        "\n",
        "<br/>\n",
        "\n",
        "Hint: [Here](https://docs.scipy.org/doc/numpy-1.14.1/reference/generated/numpy.random.uniform.html#numpy.random.uniform) is a link to the function you can use to create uniformly distribute data.\n",
        "\n",
        "<br/>\n",
        "\n",
        "If you get stuck, don’t worry. An answer is provided below.\n",
        "\n",
        "<br/>\n"
      ]
    },
    {
      "cell_type": "code",
      "metadata": {
        "colab_type": "code",
        "id": "meSZx4JGsPRC",
        "colab": {}
      },
      "source": [
        "%pylab inline \n",
        "import matplotlib.pyplot as plt\n",
        "from scipy.stats import uniform\n",
        "\n",
        "# Your code here.\n",
        "\n",
        "#********************\n",
        "# Create the data\n",
        "#********************\n",
        "\n",
        "# Create the data\n",
        "n = 1000\n",
        "data = ?\n",
        "\n",
        "#********************\n",
        "# Calculate the mean\n",
        "#********************\n",
        "\n",
        "data_mean = ?\n",
        "\n",
        "print(\"The mean of the uniformly distributed data is: \", data_mean)\n",
        "\n",
        "#********************\n",
        "# Histogram\n",
        "#********************\n",
        "\n",
        "b = 100 # The number of bins.\n",
        "\n",
        "# And clear the data\n",
        "data = None # I set this variable to none, to cleanup explicitly.\n"
      ],
      "execution_count": 0,
      "outputs": []
    },
    {
      "cell_type": "markdown",
      "metadata": {
        "colab_type": "text",
        "id": "JNRTAqA2sPRF"
      },
      "source": [
        "### Activity 2.1 Solution"
      ]
    },
    {
      "cell_type": "code",
      "metadata": {
        "colab_type": "code",
        "id": "CJFb89qusPRF",
        "outputId": "bcad8cd5-3bdd-4897-e7b7-0d03d9a8b424",
        "colab": {
          "base_uri": "https://localhost:8080/",
          "height": 380
        }
      },
      "source": [
        "%pylab inline \n",
        "import matplotlib.pyplot as plt\n",
        "from scipy.stats import uniform\n",
        "\n",
        "#********************\n",
        "# Create the data\n",
        "#********************\n",
        "\n",
        "np.random.seed(1) # Initiate a random number generator.\n",
        "\n",
        "l = 1.0 # The lower limit of the uniform data.\n",
        "h = 6   # The upper limit of the uniform data.\n",
        "n = 1000 # The number of random samples to take.\n",
        "\n",
        "# Create the data\n",
        "data = np.random.uniform(low=l, high=h, size = n)\n",
        "\n",
        "#********************\n",
        "# Calculate the mean\n",
        "#********************\n",
        "\n",
        "data_mean = np.mean(data)\n",
        "print(\"The mean of the uniformly distributed data is: \", data_mean)\n",
        "\n",
        "#********************\n",
        "# Histogram\n",
        "#********************\n",
        "\n",
        "b = 100 # The number of bins.\n",
        "\n",
        "# Here I plot a histogram of the data.\n",
        "figure(9)\n",
        "hist(data, bins=b)# The 'bins' parameter determines how many bars will be used.\n",
        "xlabel('Bin')\n",
        "ylabel('Value')\n",
        "title(\"A plot of our uniform data (n=1,000).\")\n",
        "\n",
        "# And clear the data\n",
        "data = None # I set this variable to none, to cleanup explicitly."
      ],
      "execution_count": 0,
      "outputs": [
        {
          "output_type": "stream",
          "text": [
            "Populating the interactive namespace from numpy and matplotlib\n",
            "The mean of the uniformly distributed data is:  3.5030229972795257\n"
          ],
          "name": "stdout"
        },
        {
          "output_type": "stream",
          "text": [
            "/usr/local/lib/python3.6/dist-packages/IPython/core/magics/pylab.py:161: UserWarning: pylab import has clobbered these variables: ['title', 'std', 'norm']\n",
            "`%matplotlib` prevents importing * from pylab and numpy\n",
            "  \"\\n`%matplotlib` prevents importing * from pylab and numpy\"\n"
          ],
          "name": "stderr"
        },
        {
          "output_type": "display_data",
          "data": {
            "image/png": "[encoded data removed]",
            "text/plain": [
              "<Figure size 432x288 with 1 Axes>"
            ]
          },
          "metadata": {
            "tags": []
          }
        }
      ]
    },
    {
      "cell_type": "markdown",
      "metadata": {
        "colab_type": "text",
        "id": "e-dQCTv6sPRH"
      },
      "source": [
        "\n",
        "<br/>\n",
        "\n",
        "That's it for Section 2.\n"
      ]
    },
    {
      "cell_type": "markdown",
      "metadata": {
        "colab_type": "text",
        "id": "4eISSZOpsPRH"
      },
      "source": [
        "<br/>\n",
        "\n",
        "---\n"
      ]
    },
    {
      "cell_type": "markdown",
      "metadata": {
        "colab_type": "text",
        "id": "wJfVoBCgsibf"
      },
      "source": [
        "## 3. Data Pre-processng & Summary Statistics\n",
        "\n",
        "<br/>\n",
        "\n",
        "Summary statistics are very important for understanding our data. Before we compute them, we often pre-process our data first. This involves modifying the data in specific ways to help make it easier to work with. We tackle one example of data pre-processing next called scaling. This is a process used to scale the data to a new data range.\n",
        "\n",
        "<br/>\n",
        "\n",
        "### Activity 3.1\n",
        "\n",
        "<br/>\n",
        "\n",
        "There is a formula you can use to scale data to such a range. This formula is provided below:\n",
        "\n",
        "<br/>\n",
        "\n",
        "$x^{\\prime} = (min_{new} \\times (1 - ( (x - min) /( max - min )))) + (max_{new} \\times ( (x - min) /( max - min ) ))$\n",
        "\n",
        "<br/>\n",
        "\n",
        "This formula might seem intimidating at first. So, let's provide an example, and break it down. Suppose we have the data,\n",
        "\n",
        "<br/>\n",
        "\n",
        "$Y=[1, 2, 3]$\n",
        "\n",
        "<br/>\n",
        "\n",
        "The minimum value of this data is 1. The maximum value is 3. We want to scale this data to the range zero to one - that is, all values should fall inside that range. We have our desired new minimum equalto 0, and our desired new maximum equal to 1.\n",
        "\n",
        "<br/>\n",
        "\n",
        "$min = 1$\n",
        "\n",
        "$max=3$\n",
        "\n",
        "$min_{new}=0$\n",
        "\n",
        "$min_{new}=1$\n",
        "\n",
        "<br/>\n",
        "\n",
        "So let's rescale our first value in $x$, which is 1. We have the formula,\n",
        "\n",
        "<br/>\n",
        "\n",
        "$x^{\\prime} = (min_{new} \\times (1 - ( (x - min) /( max - min )))) + (max_{new} \\times ( (x - min) /( max - min ) ))$\n",
        "\n",
        "<br/>\n",
        "\n",
        "And we can now fill this in:\n",
        "\n",
        "$x^{\\prime} = (0 \\times (1 - ( (x - 1) /( 3 - 1 )))) + (1 \\times ( (x - 1) /( 3 - 1 ) ))$\n",
        "\n",
        "<br/>\n",
        "\n",
        "Now we can input a value for $x$, which in this case is 1.\n",
        "\n",
        "$x^{\\prime} = (0 \\times (1 - ( (1 - 1) /( 3 - 1 )))) + (1 \\times ( (1 - 1) /( 3 - 1 ) ))$\n",
        "\n",
        "Now we can work it out.\n",
        "\n",
        "<br/>\n",
        "\n",
        "$x^{\\prime} = (0 \\times (1 - ( 0 / 2 ))) + (1 \\times ( 0 / 2 ))$\n",
        "\n",
        "$ = (0 \\times (1 - 0)) + (1 \\times 0)$\n",
        "\n",
        "$ = (0 \\times 1) + 0$\n",
        "\n",
        "$ = 0 + 0$\n",
        "\n",
        "$ = 0$\n",
        "\n",
        "<br/>\n",
        "\n",
        "We have successfully rescaled the first value. Can you do the same for $x=3$?\n",
        "\n",
        "<br/>\n",
        "\n",
        "$x^{\\prime} = (min_{new} \\times (1 - ( (3 - min) /( max - min )))) + (max_{new} \\times ( (3 - min) /( max - min ) ))$\n",
        "\n",
        "<br/>\n",
        "\n",
        "Now we can work it out.\n",
        "\n",
        "<br/>\n",
        "\n",
        "$ = (0 \\times (1 - ( (3 - min) /( max - min )))) + (1 \\times ( (3 - min) /( max - min ) ))$\n",
        "\n",
        "$ = (0 \\times (1 - ( (3 - 1) /( 3 - 1 )))) + (1 \\times ( (3 - 1) /( 3 - 1 ) ))$\n",
        "\n",
        "$ = (0 \\times (1 - ( (3 - 1) /( 3 - 1 )))) + (1 \\times ( (3 - 1) /( 3 - 1 ) ))$\n",
        "\n",
        "$ = (0 \\times (1 - ( 2 / 2 ))) + (1 \\times ( 2 / 2 ))$\n",
        "\n",
        "$ = (0 \\times (1 - 1)) + (1 \\times 1)$\n",
        "\n",
        "$ = (0 \\times 0) + (1 \\times 1)$\n",
        "\n",
        "$ = 0 + 1$\n",
        "\n",
        "$ = 1$\n",
        "\n",
        "<br/>\n",
        "\n",
        "In the cell below, I'd like you to write a function capable of scaling data, ideally to the range zero to one. Write this code as a function called ```my_scale``` , so that it can scale an entire list. Before we do that, we create some data to test with.\n",
        "\n",
        "<br/>\n"
      ]
    },
    {
      "cell_type": "code",
      "metadata": {
        "id": "r5tAtnXQdxAO",
        "colab_type": "code",
        "outputId": "0063c309-bb45-4bca-86c8-247db2d5c8c0",
        "colab": {
          "base_uri": "https://localhost:8080/",
          "height": 34
        }
      },
      "source": [
        "np.random.seed(1) # Initiate a random number generator.\n",
        "\n",
        "mu    = 10.0 # The mean of the data.\n",
        "sigma = 7.64 # The standard deviation of the data.\n",
        "n     = 1000 # The number of random samples to take.\n",
        "\n",
        "# Create the data\n",
        "data = np.random.normal(size = n, loc = mu, scale = sigma)\n",
        "\n",
        "print(\"Data samples created: \", len(data))"
      ],
      "execution_count": 0,
      "outputs": [
        {
          "output_type": "stream",
          "text": [
            "Data samples created:  1000\n"
          ],
          "name": "stdout"
        }
      ]
    },
    {
      "cell_type": "markdown",
      "metadata": {
        "id": "ZlM2bU-0ehUp",
        "colab_type": "text"
      },
      "source": [
        "<br/>\n",
        "\n",
        "We plot this data to see what it looks like.\n",
        "\n",
        "<br/>\n"
      ]
    },
    {
      "cell_type": "code",
      "metadata": {
        "id": "HXIPb7CEemWj",
        "colab_type": "code",
        "outputId": "f5ab7c8a-dfe1-4b5a-dcb9-9fb8e4380348",
        "colab": {
          "base_uri": "https://localhost:8080/",
          "height": 281
        }
      },
      "source": [
        "import numpy as np\n",
        "from scipy.stats import norm\n",
        "import matplotlib.pyplot as plt\n",
        "\n",
        "# Fit a normal distribution to the data we created earlier.\n",
        "mu, std = norm.fit(data)\n",
        "\n",
        "# Plot the histogram. Details of this function can be found here:\n",
        "# https://matplotlib.org/3.1.1/api/_as_gen/matplotlib.pyplot.hist.html\n",
        "# Here the alpha parameter dictates how transparent the histogram will be,\n",
        "# so alpha=1.0 is zero transparency, and alpha=0.0 is completely \n",
        "# transparent.\n",
        "plt.hist(data, bins=50, density=True, alpha=0.6, color='g')\n",
        "\n",
        "# Now we plot what we call the probability density function, or PDF.\n",
        "xmin, xmax = plt.xlim() # Gets the max and min values in the data.\n",
        "\n",
        "# Creates equally spaced numerical values between the mix and max values. This \n",
        "# call produces an array of values. These will be used to create x-axis co-\n",
        "# ordinates, which we need to plot the normal curve. Remember to plot the curve,\n",
        "# we need x and y-axis values.\n",
        "x = np.linspace(xmin, xmax, 100) \n",
        "\n",
        "# This line creates the probability density function - this provides the y \n",
        "# values for the plot.\n",
        "y = norm.pdf(x, mu, std)\n",
        "\n",
        "# Now we plot the function over the top of the histogram.\n",
        "plt.plot(x, y, 'k', linewidth=2)\n",
        "title = (\"New data for activity 3.1\")\n",
        "plt.title(title)\n",
        "\n",
        "# Finally show the plot.\n",
        "plt.show()\n"
      ],
      "execution_count": 0,
      "outputs": [
        {
          "output_type": "display_data",
          "data": {
            "image/png": "[encoded data removed]",
            "text/plain": [
              "<Figure size 432x288 with 1 Axes>"
            ]
          },
          "metadata": {
            "tags": []
          }
        }
      ]
    },
    {
      "cell_type": "markdown",
      "metadata": {
        "colab_type": "text",
        "id": "6pQurifSsibh"
      },
      "source": [
        "<br/>\n",
        "\n",
        "We can see that this data has a mean of around 10. In the cell below, try to write your data scaling function. If you get stuck, look at the answer below.\n",
        "\n",
        "<br/>"
      ]
    },
    {
      "cell_type": "code",
      "metadata": {
        "colab_type": "code",
        "id": "1Pk6RTSIsibi",
        "colab": {}
      },
      "source": [
        "# For some math we need to do.\n",
        "import numpy as np\n",
        "\n",
        "########################### \n",
        "# Write your code here.\n",
        "########################### \n",
        "\n",
        "def my_scale(data, new_min, new_max):\n",
        "    \"\"\"\n",
        "    Scales data to within the range [new_min,new_max].\n",
        "\n",
        "    Parameters\n",
        "    ----------\n",
        "    :param data: the data to scale.\n",
        "    :param new_min: the new minimum value for the data range.\n",
        "    :param new_max: the new maximum value for the data range.\n",
        "\n",
        "    Returns\n",
        "    ----------\n",
        "    :return: A new array with the data scaled to within the range [new_min,new_max].\n",
        "    \"\"\"\n",
        "    # Add code....\n",
        "\n",
        "    return []\n",
        "    \n",
        "########################### \n",
        "# End your code here.\n",
        "########################### \n",
        "\n",
        "# This csection runs your code.\n",
        "new_min = 0\n",
        "new_max = 1\n",
        "\n",
        "scaled_data =  my_scale(data,new_min,new_max)\n",
        "\n",
        "########################### \n",
        "# Now plot the data to test\n",
        "########################### \n",
        "\n",
        "import numpy as np\n",
        "from scipy.stats import norm\n",
        "import matplotlib.pyplot as plt\n",
        "\n",
        "# Fit a normal distribution to the data we created earlier.\n",
        "mu, std = norm.fit(data)\n",
        "\n",
        "# Plot the histogram. Details of this function can be found here:\n",
        "# https://matplotlib.org/3.1.1/api/_as_gen/matplotlib.pyplot.hist.html\n",
        "# Here the alpha parameter dictates how transparent the histogram will be,\n",
        "# so alpha=1.0 is zero transparency, and alpha=0.0 is completely \n",
        "# transparent.\n",
        "plt.hist(scaled_data, bins=50, density=True, alpha=0.6, color='g')\n",
        "\n",
        "# Now we plot what we call the probability density function, or PDF.\n",
        "xmin, xmax = plt.xlim() # Gets the max and min values in the data.\n",
        "\n",
        "# Creates equally spaced numerical values between the mix and max values. This \n",
        "# call produces an array of values. These will be used to create x-axis co-\n",
        "# ordinates, which we need to plot the normal curve. Remember to plot the curve,\n",
        "# we need x and y-axis values.\n",
        "x = np.linspace(xmin, xmax, 100) \n",
        "\n",
        "# This line creates the probability density function - this provides the y \n",
        "# values for the plot.\n",
        "y = norm.pdf(x, mu, std)\n",
        "\n",
        "# Now we plot the function over the top of the histogram.\n",
        "plt.plot(x, y, 'k', linewidth=2)\n",
        "title = (\"New data for activity 3.1\")\n",
        "plt.title(title)\n",
        "\n",
        "# Finally show the plot.\n",
        "plt.show()\n"
      ],
      "execution_count": 0,
      "outputs": []
    },
    {
      "cell_type": "markdown",
      "metadata": {
        "colab_type": "text",
        "id": "97ZL7n2isibl"
      },
      "source": [
        "### Activity 3.1 Solution"
      ]
    },
    {
      "cell_type": "code",
      "metadata": {
        "colab_type": "code",
        "id": "_ujNwzsDsibl",
        "outputId": "70fd3309-5386-4ada-f280-adc848cf7d91",
        "colab": {
          "base_uri": "https://localhost:8080/",
          "height": 281
        }
      },
      "source": [
        "# For some math we need to do.\n",
        "import numpy as np\n",
        "\n",
        "def my_scale(data, new_min, new_max):\n",
        "    \"\"\"\n",
        "    Scales data to within the range [new_min,new_max].\n",
        "\n",
        "    Parameters\n",
        "    ----------\n",
        "    :param data: the data to scale.\n",
        "    :param new_min: the new minimum value for the data range.\n",
        "    :param new_max: the new maximum value for the data range.\n",
        "\n",
        "    Returns\n",
        "    ----------\n",
        "    :return: A new array with the data scaled to within the range [new_min,new_max].\n",
        "    \"\"\"\n",
        "    minimum = np.min(data)\n",
        "    maximum = np.max(data)\n",
        "\n",
        "    new_data = []\n",
        "\n",
        "    for n in range(len(data)):\n",
        "\n",
        "        value = data[n]\n",
        "        x = (new_min * (1 - ( (value - minimum) /( maximum - minimum )))) +\\\n",
        "         (new_max * ( (value - minimum) /( maximum - minimum ) ))\n",
        "        new_data.append(x)\n",
        "\n",
        "    return new_data\n",
        "\n",
        "########################### \n",
        "# End your code here.\n",
        "########################### \n",
        "\n",
        "new_min = 0\n",
        "new_max = 1\n",
        "\n",
        "scaled_data =  my_scale(data,new_min,new_max)\n",
        "\n",
        "########################### \n",
        "# Now plot the data to test\n",
        "########################### \n",
        "\n",
        "import numpy as np\n",
        "from scipy.stats import norm\n",
        "import matplotlib.pyplot as plt\n",
        "\n",
        "# Fit a normal distribution to the data we created earlier.\n",
        "mu, std = norm.fit(scaled_data)\n",
        "\n",
        "# Plot the histogram. Details of this function can be found here:\n",
        "# https://matplotlib.org/3.1.1/api/_as_gen/matplotlib.pyplot.hist.html\n",
        "# Here the alpha parameter dictates how transparent the histogram will be,\n",
        "# so alpha=1.0 is zero transparency, and alpha=0.0 is completely \n",
        "# transparent.\n",
        "plt.hist(scaled_data, bins=50, density=True, alpha=0.6, color='g')\n",
        "\n",
        "# Now we plot what we call the probability density function, or PDF.\n",
        "xmin, xmax = plt.xlim() # Gets the max and min values in the data.\n",
        "\n",
        "# Creates equally spaced numerical values between the mix and max values. This \n",
        "# call produces an array of values. These will be used to create x-axis co-\n",
        "# ordinates, which we need to plot the normal curve. Remember to plot the curve,\n",
        "# we need x and y-axis values.\n",
        "x = np.linspace(xmin, xmax, 100) \n",
        "\n",
        "# This line creates the probability density function - this provides the y \n",
        "# values for the plot.\n",
        "y = norm.pdf(x, mu, std)\n",
        "\n",
        "# Now we plot the function over the top of the histogram.\n",
        "plt.plot(x, y, 'k', linewidth=2)\n",
        "title = (\"New data for activity 3.1\")\n",
        "plt.title(title)\n",
        "\n",
        "# Finally show the plot.\n",
        "plt.show()\n",
        "\n",
        "# And clear the data\n",
        "scaled_data = None # I set this variable to none, to cleanup explicitly."
      ],
      "execution_count": 0,
      "outputs": [
        {
          "output_type": "display_data",
          "data": {
            "image/png": "[encoded data removed]",
            "text/plain": [
              "<Figure size 432x288 with 1 Axes>"
            ]
          },
          "metadata": {
            "tags": []
          }
        }
      ]
    },
    {
      "cell_type": "markdown",
      "metadata": {
        "id": "9qRsRes_kNx8",
        "colab_type": "text"
      },
      "source": [
        "<br/>\n",
        "\n",
        "You should see in the plot above, that the data has now been transformed.\n",
        "\n",
        "<br/>\n",
        "\n",
        "### Standardising/Normalising Data\n",
        "\n",
        "<br/>\n",
        "\n",
        "[Normalisation](https://en.wikipedia.org/wiki/Normalization_(statistics)) is an important process that we often use to pre-process our data. It allows us to adjust our data to a common scale, which makes the data easier to process for many machine learning algorithms. A simple way of normalising data involves altering it, so it has a [mean](https://en.wikipedia.org/wiki/Arithmetic_mean) (average) of zero, and unit [variance](https://en.wikipedia.org/wiki/Variance) (a variance exactly equal to 1). Remember, the mean is simply a statistic used to measure the average value of the data. Whilst variance is another metric we can use to measure how spread out the data is. So, data with a mean of 1 and a variance of 0.01, would be tightly clustered around the value of 1. Whilst data with a mean of 1 and a variance of 10 will be much more spread out. We can use code from numpy library to make this normalisation process easy. Later we can write our own methods to do this.\n",
        "\n",
        "<br/>\n",
        "\n",
        "For those that are interested, the type of normalisation we doing here is also known as the [standard score](https://en.wikipedia.org/wiki/Standard_score) and Z-score normalisation. It uses a simple formula to alter the data. This is as follows:\n",
        "\n",
        "<br/>\n",
        "\n",
        "$z = \\frac{x-\\mu}{\\sigma}$\n",
        "\n",
        "<br/>\n",
        "\n",
        "This basically tells us that the standard score $z$, is equal to the value $x$ minus the mean of the data ($\\mu$, called \"mu\"), divided by the standard deviation of the data ($\\sigma$, called \"sigma\"). If we have the following data,\n",
        "\n",
        "<br/>\n",
        "\n",
        "$x=[1,2,3]$\n",
        "\n",
        "<br/>\n",
        "\n",
        "There are 3 items thus $N=3$. Then the mean of the data is equal to:\n",
        "\n",
        "<br/>\n",
        "\n",
        "$\\mu = \\frac{1+2+3}{N}=\\frac{6}{3}=2$\n",
        "\n",
        "<br/>\n",
        "\n",
        "The standard deviation is given by:\n",
        "\n",
        "<br/>\n",
        "\n",
        "$\\sigma = \\sqrt{\\frac{ \\sum_{i=1}^{N} (x_{i} - \\mu)^{2} }{N}}$\n",
        "\n",
        "<br/>\n",
        "\n",
        "We can substitute in values as follows:\n",
        "\n",
        "<br/>\n",
        "\n",
        "$\\sigma = \\sqrt{\\frac{ (1 - 2)^{2} + (2 - 2)^{2} + (3 - 2)^{2} }{2}}$\n",
        "\n",
        "$= \\sqrt{\\frac{ (-1)^{2} + (0)^{2} + (1)^{2} }{2}}$\n",
        "\n",
        "$= \\sqrt{\\frac{ 1 + 0 + 1 }{2}}$\n",
        "\n",
        "$= \\sqrt{\\frac{ 2 }{2}}$\n",
        "\n",
        "$= 1$\n",
        "\n",
        "<br/>"
      ]
    },
    {
      "cell_type": "markdown",
      "metadata": {
        "id": "VjGbx7V0MATA",
        "colab_type": "text"
      },
      "source": [
        "<br/>\n",
        "\n",
        "Let’s show how we can do this using the numpy libraries. Let’s compute the normalised version of some simple data, where,\n",
        "\n",
        "<br/>\n",
        "\n",
        " $x = [0,0,1,2,3,4,5,6,7,8,9,8,7,6,5,4,3,2,1,0,0]$.\n",
        "\n",
        "<br/>"
      ]
    },
    {
      "cell_type": "code",
      "metadata": {
        "colab_type": "code",
        "id": "V0CqhbxG48TV",
        "scrolled": true,
        "outputId": "28dc97c1-0961-4100-c90a-c13a339b7b3c",
        "colab": {
          "base_uri": "https://localhost:8080/",
          "height": 431
        }
      },
      "source": [
        "%pylab inline \n",
        "import matplotlib.pyplot as plt\n",
        "import numpy as np\n",
        "\n",
        "# Create the data\n",
        "x = [0,0,1,2,3,4,5,6,7,8,9,8,7,6,5,4,3,2,1,0,0]\n",
        "\n",
        "# This step alters the data. For each element in data, it computes\n",
        "# the value of that element minus the mean of the whole list, divided\n",
        "# by the standard deviation of the whole of the list.\n",
        "x = (x - np.mean(x)) / np.std(x)\n",
        "\n",
        "# Here I plot the contents of the variable x.\n",
        "plot(x, 'g') # The 'g' parameter tells matplotlib to plot in green.\n",
        "xlabel('Bin')\n",
        "ylabel('Value')\n",
        "title(\"A plot of x standardised\")\n",
        "show()\n",
        "\n",
        "# Show values now in data.\n",
        "print(x)"
      ],
      "execution_count": 0,
      "outputs": [
        {
          "output_type": "stream",
          "text": [
            "Populating the interactive namespace from numpy and matplotlib\n"
          ],
          "name": "stdout"
        },
        {
          "output_type": "stream",
          "text": [
            "/usr/local/lib/python3.6/dist-packages/IPython/core/magics/pylab.py:161: UserWarning: pylab import has clobbered these variables: ['title', 'std', 'uniform', 'norm']\n",
            "`%matplotlib` prevents importing * from pylab and numpy\n",
            "  \"\\n`%matplotlib` prevents importing * from pylab and numpy\"\n"
          ],
          "name": "stderr"
        },
        {
          "output_type": "display_data",
          "data": {
            "image/png": "[encoded data removed]",
            "text/plain": [
              "<Figure size 432x288 with 1 Axes>"
            ]
          },
          "metadata": {
            "tags": []
          }
        },
        {
          "output_type": "stream",
          "text": [
            "[-1.33019453 -1.33019453 -0.98532928 -0.64046403 -0.29559878  0.04926646\n",
            "  0.39413171  0.73899696  1.08386221  1.42872745  1.7735927   1.42872745\n",
            "  1.08386221  0.73899696  0.39413171  0.04926646 -0.29559878 -0.64046403\n",
            " -0.98532928 -1.33019453 -1.33019453]\n"
          ],
          "name": "stdout"
        }
      ]
    },
    {
      "cell_type": "markdown",
      "metadata": {
        "colab_type": "text",
        "id": "taos68-848TY"
      },
      "source": [
        "\n",
        "<br/>\n",
        "\n",
        "You can see the maximum value on the y-axis has changed, compared to the first plot we created. Has this process worked correctly, however? Lets check.\n",
        "\n",
        "<br/>"
      ]
    },
    {
      "cell_type": "code",
      "metadata": {
        "colab_type": "code",
        "id": "7frCeImf48TY",
        "outputId": "4fcc088e-a25f-4f25-e767-b40c2e968249",
        "colab": {
          "base_uri": "https://localhost:8080/",
          "height": 51
        }
      },
      "source": [
        "print(\"The mean of data is: \", np.mean(x))\n",
        "print(\"The standard deviation of data is: \", np.std(x))"
      ],
      "execution_count": 0,
      "outputs": [
        {
          "output_type": "stream",
          "text": [
            "The mean of data is:  -2.114710523095536e-17\n",
            "The standard deviation of data is:  0.9999999999999999\n"
          ],
          "name": "stdout"
        }
      ]
    },
    {
      "cell_type": "markdown",
      "metadata": {
        "colab_type": "text",
        "id": "F2ZTaFUg48Ta"
      },
      "source": [
        "<br/>\n",
        "\n",
        "The results above suggest the mean of $data$ isn't quite zero - is this correct? Well, there are an odd number of data items and the mean is almost exactly zero. So this is indeed correct. If we convert the mean value to an integer, we can see this is the case.\n",
        "\n",
        "<br/>"
      ]
    },
    {
      "cell_type": "code",
      "metadata": {
        "colab_type": "code",
        "id": "167kCn4n48Ta",
        "outputId": "2bc21ada-66d3-4f15-fd98-87b021280216",
        "colab": {
          "base_uri": "https://localhost:8080/",
          "height": 34
        }
      },
      "source": [
        "print(\"The mean of data is: \", int(np.mean(x)))"
      ],
      "execution_count": 0,
      "outputs": [
        {
          "output_type": "stream",
          "text": [
            "The mean of data is:  0\n"
          ],
          "name": "stdout"
        }
      ]
    },
    {
      "cell_type": "markdown",
      "metadata": {
        "colab_type": "text",
        "id": "pU9PDY7N48Td"
      },
      "source": [
        "<br/>\n",
        "\n",
        "We can see that it is indeed zero. What I did above was cast the data to the integer data type. You must be careful when writing mathematical functions, as if you get casts wrong, your answers will look very weird.\n",
        "\n",
        "<br/>\n",
        "\n",
        "Now, going back to how we standardised the data. Suppose we want to do that again, but for a new data set.\n",
        "\n",
        "<br/>"
      ]
    },
    {
      "cell_type": "code",
      "metadata": {
        "colab_type": "code",
        "id": "SZicnOtD48Td",
        "colab": {}
      },
      "source": [
        "y = [2,3,4,5,6,7,8,9,8,7,6,5,4,3,2,3,4,5,6,7,8,9,8,7,6,5,4,3,2]"
      ],
      "execution_count": 0,
      "outputs": []
    },
    {
      "cell_type": "markdown",
      "metadata": {
        "colab_type": "text",
        "id": "oc3oC8e_48Tf"
      },
      "source": [
        "<br/>\n",
        "\n",
        "Well, we can convert the code I wrote before into a function. Here is a new function that standardises the data.\n",
        "\n",
        "<br/>"
      ]
    },
    {
      "cell_type": "code",
      "metadata": {
        "colab_type": "code",
        "id": "HDkihGNO48Th",
        "colab": {}
      },
      "source": [
        "import numpy as np\n",
        "\n",
        "def standardise(x):\n",
        "    \"\"\"\n",
        "    Standardise the data so that it has a zero mean, and a unit varience.\n",
        "\n",
        "    Parameters\n",
        "    ----------\n",
        "    N/A\n",
        "\n",
        "    Returns\n",
        "    ----------\n",
        "    N/A\n",
        "    \"\"\"\n",
        "        \n",
        "    x = (x - np.mean(x)) / np.std(x)\n",
        "    return x"
      ],
      "execution_count": 0,
      "outputs": []
    },
    {
      "cell_type": "markdown",
      "metadata": {
        "colab_type": "text",
        "id": "xftODZBt48Tj"
      },
      "source": [
        "<br/>\n",
        "\n",
        "Now lets try this new function out.\n",
        "\n",
        "<br/>"
      ]
    },
    {
      "cell_type": "code",
      "metadata": {
        "colab_type": "code",
        "id": "VHL68TWl48Tj",
        "outputId": "91379698-12ea-49e0-a03e-be3c02b7a4eb",
        "colab": {
          "base_uri": "https://localhost:8080/",
          "height": 102
        }
      },
      "source": [
        "import numpy as np\n",
        "\n",
        "print(\"Mean of data before standardisation: \", np.mean(y))\n",
        "print(\"Standard deviation of data before standardisation: \", np.std(y))\n",
        "\n",
        "standardised_y = standardise(y)\n",
        "\n",
        "print(\"\\nMean of data after standardisation: \", np.mean(standardised_y))\n",
        "print(\"Standard deviation of data after standardisation: \", np.std(standardised_y))"
      ],
      "execution_count": 0,
      "outputs": [
        {
          "output_type": "stream",
          "text": [
            "Mean of data before standardisation:  5.379310344827586\n",
            "Standard deviation of data before standardisation:  2.1239811854392405\n",
            "\n",
            "Mean of data after standardisation:  -4.594026308793751e-17\n",
            "Standard deviation of data after standardisation:  0.9999999999999999\n"
          ],
          "name": "stdout"
        }
      ]
    },
    {
      "cell_type": "markdown",
      "metadata": {
        "id": "XHm2bNW2MATL",
        "colab_type": "text"
      },
      "source": [
        "<br/>\n",
        "\n",
        "### Activity 3.2\n",
        "\n",
        "Why don't we try to write our own standardisation function. The aims here are as follows.\n",
        "\n",
        "1. Write a function that normalises data, giving it a mean of 0 and a unit variance.\n",
        "2. The function should accept a list as input, and output a new list.\n",
        "3. Do not use numpy to solve this problem - implement your own function using the formulas for the mean and standard deviation.\n",
        "4. Call the function ```myNormalisationFunction```.\n",
        "5. Print out the mean (mu) and standard deviation (sigma) when computed in your function.\n",
        "6. Assume we are using floating-point values at all times.\n",
        "\n",
        "<br/>\n",
        "\n",
        "**Relevant formulas:**\n",
        "\n",
        "<br/>\n",
        "\n",
        "$z = \\frac{x-\\mu}{\\sigma}$\n",
        "\n",
        "<br/>\n",
        "\n",
        "$\\mu = \\frac{\\textrm{Sum of inputs}}{\\textrm{Number of inputs}}$\n",
        "\n",
        "<br/>\n",
        "\n",
        "$\\sigma = \\sqrt{\\frac{ \\sum_{i=1}^{N} (x_{i} - \\mu)^{2} }{N}}$\n",
        "\n",
        "<br/>\n",
        "\n",
        "Note: you can use the in-built ```sqrt()``` function.\n",
        "\n",
        "<br/>\n"
      ]
    },
    {
      "cell_type": "code",
      "metadata": {
        "id": "lWpzu3eOMATL",
        "colab_type": "code",
        "colab": {}
      },
      "source": [
        "# This is some test data - do not delete/alter it.\n",
        "x = [1.0,2.0,3.0,4.0,5.0,6.0,7.0,8.0,9.0,10.0,9.0,9.0,8.0,8.0,7.0,7.0,8.0,8.0,9.0,9.0]\n",
        "\n",
        "#########################\n",
        "# Write your code here.\n",
        "#########################\n",
        "\n",
        "def myNormalisationFunction(x):\n",
        "    return []\n",
        "\n",
        "#########################\n",
        "# End of your code.\n",
        "#########################\n",
        "\n",
        "print(\"\\n\") # Create a new line for nicer output formatting.\n",
        "print(\"Length of x:\", len(x))\n",
        "print(\"Content of x:\")\n",
        "print(x)\n",
        "    \n",
        "# This is some testing code - do not delete this. Read through it and try to understand it.\n",
        "new_x = myNormalisationFunction(x)\n",
        "\n",
        "print(\"\\n\") # Create a new line for nicer output formatting.\n",
        "print(\"Length of new_x:\", len(new_x))\n",
        "print(\"Content of new_x:\")\n",
        "print(new_x)\n",
        "\n",
        "print(\"\\n\") # Create a new line for nicer output formatting.\n",
        "print(\"Mu value computed using standard library: \", mean(x))\n",
        "print(\"Sigma value computed using standard library: \", std(x))\n",
        "print(\"Do these values match those your function outputted?\")\n",
        "\n",
        "# Here I plot the contents of the variable new_x.\n",
        "figure(4)\n",
        "plot(new_x, 'y') # The 'y' parameter tells matplotlib to plot in yellow.\n",
        "xlabel('Bin')\n",
        "ylabel('Value')\n",
        "title(\"A plot of new_x - hopefully standardised\")\n",
        "show()"
      ],
      "execution_count": 0,
      "outputs": []
    },
    {
      "cell_type": "markdown",
      "metadata": {
        "id": "nkI1iXZmMATN",
        "colab_type": "text"
      },
      "source": [
        "<br/>\n",
        "\n",
        "There is a solution below - only look if you get stuck!\n",
        "\n",
        "<br/>\n",
        "\n",
        "### Activity 3.2 Solution\n",
        "\n",
        "<br/>"
      ]
    },
    {
      "cell_type": "code",
      "metadata": {
        "id": "3KzHBRImMATN",
        "colab_type": "code",
        "outputId": "27164bcd-3eb6-4d12-d2a6-fdcbb6abce63",
        "colab": {
          "base_uri": "https://localhost:8080/",
          "height": 604
        }
      },
      "source": [
        "# This is some test data - do not delete/alter it.\n",
        "x = [1.0,2.0,3.0,4.0,5.0,6.0,7.0,8.0,9.0,10.0,9.0,9.0,8.0,8.0,7.0,7.0,8.0,8.0,9.0,9.0]\n",
        "\n",
        "#########################\n",
        "# Write your code here.\n",
        "#########################\n",
        "\n",
        "def myNormalisationFunction(x):\n",
        "    \"\"\"\n",
        "    Standardise the data so that it has a zero mean, and a unit variance.\n",
        "\n",
        "    Parameters\n",
        "    ----------\n",
        "    N/A\n",
        "\n",
        "    Returns\n",
        "    ----------\n",
        "    N/A\n",
        "    \"\"\"\n",
        "    \n",
        "    # If the input is not initialised, or empty, then just return\n",
        "    # an empty array. This is some basic error checking.\n",
        "    if x is None or len(x) == 0:\n",
        "        return []\n",
        "    \n",
        "    \n",
        "    # There are many ways to solve this problem - I'm choosing a simple one\n",
        "    # that facilities an understanding - you can optimise this code. I'll\n",
        "    # Let you try that in your own time.\n",
        "    #\n",
        "    # Let's start with the mean.\n",
        "    total = 0.0\n",
        "    items = float(len(x))\n",
        "    for i in range(0,len(x)):\n",
        "        total += x[i]\n",
        "        \n",
        "    mu = total / items\n",
        "    \n",
        "    total = 0.0\n",
        "    # Now for the standard deviation\n",
        "    for i in range(0,len(x)):\n",
        "        total += ( (x[i] - mu) * (x[i] - mu) ) # This is the value squared.\n",
        "        \n",
        "    sigma = sqrt(total / items)\n",
        "    \n",
        "    print(\"Computed mu:\", mu)\n",
        "    print(\"Computed sigma:\", sigma)\n",
        "    \n",
        "    # Now we have these values, we can alter the data.\n",
        "    new_x = []\n",
        "    \n",
        "    for i in range(0,len(x)):\n",
        "        z = ( x[i] - mu ) / sigma\n",
        "        new_x.append(z)\n",
        "        \n",
        "    return new_x\n",
        "    \n",
        "    \n",
        "    \n",
        "\n",
        "#########################\n",
        "# End of your code.\n",
        "#########################\n",
        "\n",
        "print(\"\\n\") # Create a new line for nicer output formatting.\n",
        "print(\"Length of x:\", len(x))\n",
        "print(\"Content of x:\")\n",
        "print(x)\n",
        "    \n",
        "# This is some testing code - do not delete this. Read through it and try to understand it.\n",
        "new_x = myNormalisationFunction(x)\n",
        "\n",
        "print(\"\\n\") # Create a new line for nicer output formatting.\n",
        "print(\"Length of new_x:\", len(new_x))\n",
        "print(\"Content of new_x:\")\n",
        "print(new_x)\n",
        "\n",
        "print(\"\\n\") # Create a new line for nicer output formatting.\n",
        "print(\"Mu value computed using standard library: \", mean(x))\n",
        "print(\"Sigma value computed using standard library: \", std(x))\n",
        "print(\"Do these values match those your function outputted?\")\n",
        "\n",
        "# Here I plot the contents of the variable new_x.\n",
        "figure(4)\n",
        "plot(new_x, 'y') # The 'y' parameter tells matplotlib to plot in yellow.\n",
        "xlabel('Bin')\n",
        "ylabel('Value')\n",
        "title(\"A plot of new_x - hopefully standardised\")\n",
        "show()"
      ],
      "execution_count": 0,
      "outputs": [
        {
          "output_type": "stream",
          "text": [
            "\n",
            "\n",
            "Length of x: 20\n",
            "Content of x:\n",
            "[1.0, 2.0, 3.0, 4.0, 5.0, 6.0, 7.0, 8.0, 9.0, 10.0, 9.0, 9.0, 8.0, 8.0, 7.0, 7.0, 8.0, 8.0, 9.0, 9.0]\n",
            "Computed mu: 6.85\n",
            "Computed sigma: 2.495495942693556\n",
            "\n",
            "\n",
            "Length of new_x: 20\n",
            "Content of new_x:\n",
            "[-2.3442234066250185, -1.9435014567745879, -1.5427795069241572, -1.1420575570737268, -0.7413356072232963, -0.3406136573728658, 0.06010829247756472, 0.46083024232799524, 0.8615521921784257, 1.2622741420288563, 0.8615521921784257, 0.8615521921784257, 0.46083024232799524, 0.46083024232799524, 0.06010829247756472, 0.06010829247756472, 0.46083024232799524, 0.46083024232799524, 0.8615521921784257, 0.8615521921784257]\n",
            "\n",
            "\n",
            "Mu value computed using standard library:  6.85\n",
            "Sigma value computed using standard library:  2.495495942693556\n",
            "Do these values match those your function outputted?\n"
          ],
          "name": "stdout"
        },
        {
          "output_type": "display_data",
          "data": {
            "image/png": "[encoded data removed]",
            "text/plain": [
              "<Figure size 432x288 with 1 Axes>"
            ]
          },
          "metadata": {
            "tags": []
          }
        }
      ]
    },
    {
      "cell_type": "markdown",
      "metadata": {
        "id": "C6KSKu8UUUa_",
        "colab_type": "text"
      },
      "source": [
        "<br/>\n",
        "\n",
        "### Back to Summary Statistics\n",
        "\n",
        "<br/>\n",
        "\n",
        "Now that we've scaled our data, how about we compute some summary statistics over it. There are 4 main statistics that we'll consider.\n",
        "\n",
        "<br/>\n",
        "\n",
        "| Statistic | Description | Definition|\n",
        "|---------|-------------|-----------|\n",
        "| $\\mu$ | Mean of the data. | $\\displaystyle \\frac{1}{n}\\sum_{\\rm i=1}^{\\rm n} x_{\\rm i}$ |\n",
        "| $\\sigma$ | Sample standard deviation of the data. | $\\displaystyle \\sqrt{\\frac{\\sum_{\\rm i=1}^{\\rm n}(\\rm x_{\\rm i}-\\bar{x})^{\\rm 2}}{n-1}}$ |\n",
        "| $k$ | Excess kurtosis of the data. | $\\displaystyle \\frac{\\frac{1}{n}(\\sum_{\\rm i=1}^{n}(x_{\\rm i}-\\bar{x})^{\\rm 4})}{(\\frac{1}{n}(\\sum_{\\rm i=1}^{\\rm n}(x_{\\rm i}-\\bar{x})^{\\rm 2}))^{\\rm 2}}-3$ |\n",
        "| $s$ | Skewness of the data. | $\\displaystyle \\frac{\\frac{1}{n}\\sum_{\\rm i=1}^{\\rm n}(x_{\\rm i}-\\bar{x})^{\\rm 3}}{\\big(\\sqrt{\\frac{1}{n}\\sum_{\\rm i=1}^{\\rm n}(x_{\\rm i}-\\bar{x})^{\\rm 2}}\\big)^3}$ |\n",
        "\n",
        "<br/>\n",
        "\n",
        "The following diagram may help explain what these metrics are describing. \n",
        "\n",
        "<br/>\n",
        "\n",
        "<img src=\"https://github.com/scienceguyrob/AI4AstroMasterclass/raw/master/media/images/ml/24_skew_and_kurtosis.png\" width=\"500\">\n",
        "\n",
        "<br/>\n",
        "\n",
        "The code provided below shows how to extract these features from our scaled data\n",
        "\n",
        "<br/>"
      ]
    },
    {
      "cell_type": "code",
      "metadata": {
        "id": "mm94G65lmGhY",
        "colab_type": "code",
        "outputId": "5550418d-2502-41c8-dc33-2be63bf5b6b8",
        "colab": {
          "base_uri": "https://localhost:8080/",
          "height": 102
        }
      },
      "source": [
        "from scipy.stats import skew\n",
        "from scipy.stats import kurtosis\n",
        "import numpy as np\n",
        "\n",
        "# First we create some data\n",
        "np.random.seed(1) # Initiate a random number generator.\n",
        "\n",
        "mu    = 5.0 # The mean of the data.\n",
        "sigma = 2.0 # The standard deviation of the data.\n",
        "n     = 1000 # The number of random samples to take.\n",
        "\n",
        "# Create the data\n",
        "data = np.random.normal(size = n, loc = mu, scale = sigma)\n",
        "\n",
        "print(\"Data samples created: \", len(data))\n",
        "\n",
        "# Perform computations\n",
        "mu = np.mean(data)\n",
        "sigma = np.std(data, ddof=1)\n",
        "k = kurtosis(data,fisher=True)\n",
        "s = skew(data)\n",
        "\n",
        "print(\"Scaled data mean: \",mu)\n",
        "print(\"Scaled data sigma: \",sigma)\n",
        "print(\"Scaled data kurtosis: \",k)\n",
        "print(\"Scaled data skew: \",s)"
      ],
      "execution_count": 0,
      "outputs": [
        {
          "output_type": "stream",
          "text": [
            "Data samples created:  1000\n",
            "Scaled data mean:  5.077624952319204\n",
            "Scaled data sigma:  1.9629900083651206\n",
            "Scaled data kurtosis:  0.23360137518812651\n",
            "Scaled data skew:  -0.06835228125486865\n"
          ],
          "name": "stdout"
        }
      ]
    },
    {
      "cell_type": "markdown",
      "metadata": {
        "id": "-0S6H7lMkRZI",
        "colab_type": "text"
      },
      "source": [
        "<br/>\n",
        "\n",
        "You’ve now learned how to compute 4 summary statistics over a data distribution. You can now use these to compare distributions, determining which are more skewed, or which have higher means, etc.\n",
        "\n",
        "<br/>\n",
        "\n",
        "\n",
        "\n"
      ]
    },
    {
      "cell_type": "markdown",
      "metadata": {
        "colab_type": "text",
        "id": "juyt-4uVsibn"
      },
      "source": [
        "\n",
        "<br/>\n",
        "\n",
        "That's it for Section 3.\n"
      ]
    },
    {
      "cell_type": "markdown",
      "metadata": {
        "colab_type": "text",
        "id": "XWcIBgrEsibn"
      },
      "source": [
        "<br/>\n",
        "\n",
        "---\n"
      ]
    },
    {
      "cell_type": "markdown",
      "metadata": {
        "colab_type": "text",
        "id": "ElU6zXAVtJh1"
      },
      "source": [
        "## 4. Hypothesis Testing\n",
        "\n",
        "<br/>\n",
        "\n",
        "In the lecture notes, I describe the five main steps to be undertaken when testing hypotheses. These are listed again below for completeness.\n",
        "\n",
        "<br/>\n",
        "\n",
        "1. We form hypotheses to answer questions about our data.\n",
        "2. We collect data samples to test them.\n",
        "3. We compute summary statistics over the data sample, such as the sample mean and sample standard deviation.\n",
        "4. We compute the $Z$-score and use this along with normal probability tables to determine the area under the curve.\n",
        "5. We use these areas to represent probabilities as p-values, and evaluate them with respect to some significance level, alpha($\\alpha$). \n",
        "\n",
        "<br/>\n",
        "\n",
        "Consider an example problem. Suppose we are data scientists working for a tech company. We are asked to determine the following:\n",
        "\n",
        "<br/>\n",
        "\n",
        "\n",
        "“Has customer interaction time with our new sales website, increased after an interface redesign?”\n",
        "\n",
        "<br/>\n",
        "\n",
        "We form two hypotheses to help answer this problem. The null hypothesis, $H_{0}$ is that there has been no change. Whilst the alternative hypothesis $H_{1}$ is that there has been some positive change.\n",
        "\n",
        "<br/>\n",
        "\n",
        "Before we go another further, we collect some data. We have two samples of data:\n",
        "\n",
        "<br/>\n",
        "\n",
        "1.\tUser interaction time in minutes, before the redesign.\n",
        "2.\tUser interaction time in minutes, after the redesign.\n",
        "\n",
        "<br/>\n",
        "\n",
        "Before we go any further, we load our sample data.\n",
        "\n",
        "<br/>\n"
      ]
    },
    {
      "cell_type": "code",
      "metadata": {
        "id": "fQVuRBybfm-t",
        "colab_type": "code",
        "outputId": "e4420035-bc1e-47e8-9233-c2a6461d3d0a",
        "colab": {
          "base_uri": "https://localhost:8080/",
          "height": 119
        }
      },
      "source": [
        "import numpy as np\n",
        "\n",
        "# We load some data from an external resurce.\n",
        "before_url = 'https://raw.githubusercontent.com/scienceguyrob/ioc-techup/master/notebooks/data/wesbite_study/before.csv'\n",
        "after_url = 'https://raw.githubusercontent.com/scienceguyrob/ioc-techup/master/notebooks/data/wesbite_study/after.csv'\n",
        "\n",
        "# Now simply load the data.\n",
        "before = np.loadtxt(before_url, dtype=np.float, delimiter=',', encoding='utf-8')\n",
        "after = np.loadtxt(after_url, dtype=np.float, delimiter=',', encoding='utf-8')\n",
        "\n",
        "# Print overview details of the data we've obtained.\n",
        "print ('Total number of before data points: ', len(before))\n",
        "print ('Total number of after data points: ', len(after))\n",
        "\n",
        "print(\"Data type of before: \", type(before))\n",
        "print(\"Data type of before: \", type(after))\n",
        "\n",
        "print(\"First element in before: \",before[0])\n",
        "print(\"First element in after: \", after[0])"
      ],
      "execution_count": 0,
      "outputs": [
        {
          "output_type": "stream",
          "text": [
            "Total number of before data points:  1000\n",
            "Total number of after data points:  1000\n",
            "Data type of before:  <class 'numpy.ndarray'>\n",
            "Data type of before:  <class 'numpy.ndarray'>\n",
            "First element in before:  32.36518045494863\n",
            "First element in after:  38.23821654593835\n"
          ],
          "name": "stdout"
        }
      ]
    },
    {
      "cell_type": "markdown",
      "metadata": {
        "id": "d-lUqBmfmLj6",
        "colab_type": "text"
      },
      "source": [
        "<br/>\n",
        "\n",
        "Now we have the data, we take a few first steps.\n",
        "\n",
        "<br/>\n",
        "\n",
        "\n",
        "1.\tWe visualise the data.\n",
        "2.\tWe compute summary statistics.\n",
        "\n",
        "<br/>\n",
        "\n"
      ]
    },
    {
      "cell_type": "code",
      "metadata": {
        "id": "ExXk9ICvoLJD",
        "colab_type": "code",
        "outputId": "f261115e-eee0-4097-fc59-075b65be8e79",
        "colab": {
          "base_uri": "https://localhost:8080/",
          "height": 281
        }
      },
      "source": [
        "import numpy as np\n",
        "from scipy.stats import norm\n",
        "import matplotlib.pyplot as plt\n",
        "\n",
        "########################### \n",
        "# Before data first\n",
        "###########################\n",
        "\n",
        "# Fit a normal distribution to the before data first\n",
        "mu, std = norm.fit(before)\n",
        "plt.hist(before, bins=50, density=True, alpha=0.6, color='g')\n",
        "# Now we plot what we call the probability density function, or PDF.\n",
        "xmin, xmax = plt.xlim() # Gets the max and min values in the data.\n",
        "# Creates equally spaced numerical values between the mix and max values.\n",
        "x = np.linspace(xmin, xmax, 200) \n",
        "# This line creates the probability density function - this provides the y \n",
        "# values for the plot.\n",
        "y = norm.pdf(x, mu, std)\n",
        "# Now we plot the function over the top of the histogram.\n",
        "plt.plot(x, y, 'r', linewidth=2)\n",
        "\n",
        "########################### \n",
        "# Show plot and edit title\n",
        "###########################\n",
        "\n",
        "title = (\"Before data\")\n",
        "plt.title(title)\n",
        "\n",
        "# Finally show the plot.\n",
        "plt.show()"
      ],
      "execution_count": 0,
      "outputs": [
        {
          "output_type": "display_data",
          "data": {
            "image/png": "[encoded data removed]",
            "text/plain": [
              "<Figure size 432x288 with 1 Axes>"
            ]
          },
          "metadata": {
            "tags": []
          }
        }
      ]
    },
    {
      "cell_type": "markdown",
      "metadata": {
        "id": "5F4iTzOyqGCF",
        "colab_type": "text"
      },
      "source": [
        "<br/>\n",
        "\n",
        "Now for the after data...\n",
        "\n",
        "<br/>"
      ]
    },
    {
      "cell_type": "code",
      "metadata": {
        "id": "_g9apyKsp8Mi",
        "colab_type": "code",
        "outputId": "9b08ecd3-ec14-47f8-d7a9-904d0405dda0",
        "colab": {
          "base_uri": "https://localhost:8080/",
          "height": 281
        }
      },
      "source": [
        "########################### \n",
        "# Now the after data\n",
        "###########################\n",
        "\n",
        "# Fit a normal distribution to the before data first\n",
        "mu, std = norm.fit(after)\n",
        "plt.hist(after, bins=50, density=True, alpha=0.6, color='g')\n",
        "# Now we plot what we call the probability density function, or PDF.\n",
        "xmin, xmax = plt.xlim() # Gets the max and min values in the data.\n",
        "# Creates equally spaced numerical values between the mix and max values.\n",
        "x = np.linspace(xmin, xmax, 200) \n",
        "# This line creates the probability density function - this provides the y \n",
        "# values for the plot.\n",
        "y = norm.pdf(x, mu, std)\n",
        "# Now we plot the function over the top of the histogram.\n",
        "plt.plot(x, y, 'g', linewidth=2)\n",
        "\n",
        "########################### \n",
        "# Show plot and edit title\n",
        "###########################\n",
        "\n",
        "title = (\"After data\")\n",
        "plt.title(title)\n",
        "\n",
        "# Finally show the plot.\n",
        "plt.show()"
      ],
      "execution_count": 0,
      "outputs": [
        {
          "output_type": "display_data",
          "data": {
            "image/png": "[encoded data removed]",
            "text/plain": [
              "<Figure size 432x288 with 1 Axes>"
            ]
          },
          "metadata": {
            "tags": []
          }
        }
      ]
    },
    {
      "cell_type": "markdown",
      "metadata": {
        "id": "S4wPtDR2qRz9",
        "colab_type": "text"
      },
      "source": [
        "<br/>\n",
        "\n",
        "Next we compute some summary statistics.\n",
        "<br/>"
      ]
    },
    {
      "cell_type": "markdown",
      "metadata": {
        "colab_type": "text",
        "id": "pSpGoLS_tJh3"
      },
      "source": [
        "<r/>\n",
        "\n",
        "### Activity 4.1\n",
        "\n",
        "<br/>\n",
        "\n",
        "Please compute the summary statistics for the before and after data. We compute,\n",
        "\n",
        "<br/>\n",
        "\n",
        "* the mean.\n",
        "* the standard deviation.\n",
        "\n",
        "<br/>"
      ]
    },
    {
      "cell_type": "code",
      "metadata": {
        "colab_type": "code",
        "id": "my9FTZ3RtJh4",
        "colab": {}
      },
      "source": [
        "# Your code here"
      ],
      "execution_count": 0,
      "outputs": []
    },
    {
      "cell_type": "markdown",
      "metadata": {
        "id": "oGif88RsqtNC",
        "colab_type": "text"
      },
      "source": [
        "<br/>\n",
        "\n",
        "An answer is provided below.\n",
        "\n",
        "<br/>\n"
      ]
    },
    {
      "cell_type": "markdown",
      "metadata": {
        "colab_type": "text",
        "id": "dWufolCstJh6"
      },
      "source": [
        "### Activity 4.1 Solution"
      ]
    },
    {
      "cell_type": "code",
      "metadata": {
        "colab_type": "code",
        "id": "E1StpSgLtJh7",
        "outputId": "d20655b0-5b02-41f0-c0d9-ed598ca37929",
        "colab": {
          "base_uri": "https://localhost:8080/",
          "height": 102
        }
      },
      "source": [
        "import numpy as np\n",
        "\n",
        "# Perform computations\n",
        "mu = np.mean(before)\n",
        "sigma = np.std(before, ddof=1)\n",
        "\n",
        "print(\"Before data mean: \",mu)\n",
        "print(\"Before data sigma: \",sigma)\n",
        "\n",
        "# Perform computations\n",
        "mu = np.mean(after)\n",
        "sigma = np.std(after, ddof=1)\n",
        "\n",
        "print(\"\\nAfter data mean: \",mu)\n",
        "print(\"After data sigma: \",sigma)\n"
      ],
      "execution_count": 0,
      "outputs": [
        {
          "output_type": "stream",
          "text": [
            "Before data mean:  8.582187142394028\n",
            "Before data sigma:  14.722425062738402\n",
            "\n",
            "After data mean:  9.698624570872832\n",
            "After data sigma:  17.666910075286086\n"
          ],
          "name": "stdout"
        }
      ]
    },
    {
      "cell_type": "markdown",
      "metadata": {
        "id": "FUnWN2M4rZHz",
        "colab_type": "text"
      },
      "source": [
        "<br/>\n",
        "\n",
        "Now we reform our hypotheses based on the summary statistics. We now have $H_{0}: \\mu = 8.58$, and $H_{1}: \\mu > 8.58$ - so how can we test these hypotheses? Remember the steps I outlined earlier:\n",
        "\n",
        "<br/>\n",
        "\n",
        "1. We form hypotheses to answer questions about our data - DONE.\n",
        "2. We collect data samples to test them - DONE.\n",
        "3. We compute summary statistics over the data sample, such as the sample mean and sample standard deviation - DONE.\n",
        "4. We compute the $Z$-score and use this along with normal probability tables to determine the area under the curve.\n",
        "5. We use these areas to represent probabilities as p-values, and evaluate them with respect to some significance level, alpha($\\alpha$). \n",
        "\n",
        "<br/>\n",
        "\n",
        "The next step involves computing the $Z$-score. The formula for the $Z$-score is as follows:\n",
        "\n",
        "<br/>\n",
        "\n",
        "$z=\\frac{x-\\mu}{\\sigma}$, where,\n",
        "\n",
        "<br/>\n",
        "\n",
        "$\\sigma$ here is given by the standard error,\n",
        "\n",
        "<br/>\n",
        "\n",
        "$S_{\\bar{x}}=\\frac{stdev.}{\\sqrt{n}}$,\n",
        "\n",
        "<br/>\n",
        "\n",
        "Where $n$ is the number of observations.\n",
        "\n",
        "<br/>\n",
        "\n",
        "We can compute the $Z$-score for our data as follows.\n",
        "\n",
        "<br/>\n",
        "\n",
        "\n"
      ]
    },
    {
      "cell_type": "code",
      "metadata": {
        "id": "9uYIzi4bYmNs",
        "colab_type": "code",
        "outputId": "39c18a1c-5927-413b-97c1-17b4618b8f14",
        "colab": {
          "base_uri": "https://localhost:8080/",
          "height": 153
        }
      },
      "source": [
        "import numpy as np\n",
        "\n",
        "# Perform mean and sigma computations again for clarity\n",
        "mu_before = np.mean(before)\n",
        "sigma_before = np.std(before, ddof=1)\n",
        "print(\"Mean of data before interface update: \", mu_before, \" minutes.\")\n",
        "print(\"Stdev. of data before interface update: \", sigma_before, \" minutes.\\n\")\n",
        "\n",
        "mu_after = np.mean(after)\n",
        "sigma_after = np.std(after, ddof=1)\n",
        "print(\"Mean of data after interface update: \", mu_after, \" minutes.\")\n",
        "print(\"Stdev. of data after interface update: \", sigma_after, \" minutes.\\n\")\n",
        "\n",
        "# Samples in the data collected after the change.\n",
        "n = len(after)\n",
        "\n",
        "# Standard error in the sample data collected after the interface change.\n",
        "standard_error = sigma_after / np.sqrt(n)\n",
        "print(\"Standard error of the sample data: \", standard_error , \".\")\n",
        "\n",
        "# Now we compute the z-score.\n",
        "z = (mu_after - mu_before) / standard_error  \n",
        "print(\"Z-score for the data: \", z , \".\")  "
      ],
      "execution_count": 0,
      "outputs": [
        {
          "output_type": "stream",
          "text": [
            "Mean of data before interface update:  8.582187142394028  minutes.\n",
            "Stdev. of data before interface update:  14.722425062738402  minutes.\n",
            "\n",
            "Mean of data after interface update:  9.698624570872832  minutes.\n",
            "Stdev. of data after interface update:  17.666910075286086  minutes.\n",
            "\n",
            "Standard error of the sample data:  0.5586767505528085 .\n",
            "Z-score for the data:  1.998360281458094 .\n"
          ],
          "name": "stdout"
        }
      ]
    },
    {
      "cell_type": "markdown",
      "metadata": {
        "id": "NXn3vcrLvRIl",
        "colab_type": "text"
      },
      "source": [
        "<br/>\n",
        "\n",
        "We now have the $Z$-score. This means we can compute the probability of a mean value below 9.699 occurring.\n",
        "\n",
        "<br/>"
      ]
    },
    {
      "cell_type": "code",
      "metadata": {
        "id": "ZMpuygxDug5w",
        "colab_type": "code",
        "outputId": "439b827b-4ce0-4193-86ba-91f5cc474654",
        "colab": {
          "base_uri": "https://localhost:8080/",
          "height": 51
        }
      },
      "source": [
        "# We use the scipy library to convert the z score into a probability.\n",
        "import scipy.stats as st\n",
        "pvalue = st.norm.cdf(z)\n",
        "\n",
        "print(\"Probability of a mean below \", mu_after, \" is: \", pvalue)\n",
        "print(\"or \", pvalue * 100, \" %\")\n",
        "\n"
      ],
      "execution_count": 0,
      "outputs": [
        {
          "output_type": "stream",
          "text": [
            "Probability of a mean below  9.698624570872832  is:  0.9771611927796227\n",
            "or  97.71611927796226  %\n"
          ],
          "name": "stdout"
        }
      ]
    },
    {
      "cell_type": "markdown",
      "metadata": {
        "id": "z4NhsxVHoGNr",
        "colab_type": "text"
      },
      "source": [
        "<br/>\n",
        "\n",
        "We not set a significance level. We want to be 95% confident that there has been an improvement. Thus we set $\\alpha=0.05$. Then we check if our p-value is less than the confience interval.\n",
        "\n",
        "<br/>\n",
        "\n",
        "\n"
      ]
    },
    {
      "cell_type": "code",
      "metadata": {
        "id": "y3EbyLLPyTJM",
        "colab_type": "code",
        "outputId": "d3986cb7-36eb-4001-d841-25dca8bb01b5",
        "colab": {
          "base_uri": "https://localhost:8080/",
          "height": 51
        }
      },
      "source": [
        "alpha = 0.05\n",
        "\n",
        "if pvalue < alpha:\n",
        "  print(\"P-value less then alpha! We reject the null hypothesis.\")\n",
        "  print(\"We accept the alternative hypothesis that interaction time increased.\")\n",
        "else:\n",
        "  print(\"P-value greater than, or equal to alpha! We accept the null hypothesis.\")\n",
        "  print(\"We reject the alternative hypothesis that interaction time increased.\")"
      ],
      "execution_count": 0,
      "outputs": [
        {
          "output_type": "stream",
          "text": [
            "P-value great than, or equal to alpha! We accept the null hypothesis.\n",
            "We reject the alternative hypothesis that interaction time increased.\n"
          ],
          "name": "stdout"
        }
      ]
    },
    {
      "cell_type": "markdown",
      "metadata": {
        "id": "y6uUB3_b0JTB",
        "colab_type": "text"
      },
      "source": [
        "<br/>\n",
        "\n",
        "It's now upto you to read over what we've done and try to understand it.\n",
        "\n",
        "<br/>\n"
      ]
    },
    {
      "cell_type": "markdown",
      "metadata": {
        "id": "HciY9WRj0Y5Z",
        "colab_type": "text"
      },
      "source": [
        "<r/>\n",
        "\n",
        "### Activity 4.2\n",
        "\n",
        "<br/>\n",
        "\n",
        "You're a data scientist asked to analyse traffic data, collected before and after a relief road has been constructed. You are asked to determine if the road has decreased wait times (in minutes) at a busy junction near the relief road. In the cell below, I'd like you to analyse this data by yourself, with little guidance from me. I'll just show you how to load the data, then it's up to you to employ the tools and strategies we've learned about above and in the lecture notes.\n",
        "\n",
        "<br/>\n",
        "\n",
        "An answer is provided below if you get stuck!\n",
        "\n",
        "<br/>\n"
      ]
    },
    {
      "cell_type": "code",
      "metadata": {
        "id": "93iH4fYQ0c1F",
        "colab_type": "code",
        "outputId": "294dae7f-7e91-4788-d2a2-210e9989b120",
        "colab": {
          "base_uri": "https://localhost:8080/",
          "height": 119
        }
      },
      "source": [
        "import numpy as np\n",
        "\n",
        "# We load some data from an external resurce.\n",
        "before_url = 'https://raw.githubusercontent.com/scienceguyrob/ioc-techup/master/notebooks/data/commute/before.csv'\n",
        "after_url = 'https://raw.githubusercontent.com/scienceguyrob/ioc-techup/master/notebooks/data/commute/after.csv'\n",
        "\n",
        "# Now simply load the data.\n",
        "before = np.loadtxt(before_url, dtype=np.float, delimiter=',', encoding='utf-8')\n",
        "after = np.loadtxt(after_url, dtype=np.float, delimiter=',', encoding='utf-8')\n",
        "\n",
        "# Print overview details of the data we've obtained.\n",
        "print ('Total number of before data points: ', len(before))\n",
        "print ('Total number of after data points: ', len(after))\n",
        "\n",
        "print(\"Data type of before: \", type(before))\n",
        "print(\"Data type of before: \", type(after))\n",
        "\n",
        "print(\"First element in before: \",before[0])\n",
        "print(\"First element in after: \", after[0])\n",
        "\n",
        "# Your code here\n",
        "\n",
        "\n",
        "\n"
      ],
      "execution_count": 0,
      "outputs": [
        {
          "output_type": "stream",
          "text": [
            "Total number of before data points:  100\n",
            "Total number of after data points:  100\n",
            "Data type of before:  <class 'numpy.ndarray'>\n",
            "Data type of before:  <class 'numpy.ndarray'>\n",
            "First element in before:  13.873036090989725\n",
            "First element in after:  11.248690727326483\n"
          ],
          "name": "stdout"
        }
      ]
    },
    {
      "cell_type": "markdown",
      "metadata": {
        "id": "IlAmjl-I0hhq",
        "colab_type": "text"
      },
      "source": [
        "<br/>\n",
        "\n",
        "An answer is provided below.\n",
        "\n",
        "<br/>\n"
      ]
    },
    {
      "cell_type": "markdown",
      "metadata": {
        "id": "-98YQ8by0mHX",
        "colab_type": "text"
      },
      "source": [
        "### Activity 4.2 Solution"
      ]
    },
    {
      "cell_type": "code",
      "metadata": {
        "id": "Qqp2ARYM0naz",
        "colab_type": "code",
        "outputId": "f44be173-b049-4e21-d119-554becec20be",
        "colab": {
          "base_uri": "https://localhost:8080/",
          "height": 493
        }
      },
      "source": [
        "import numpy as np\n",
        "import scipy.stats as st\n",
        "\n",
        "# We load some data from an external resurce.\n",
        "before_url = 'https://raw.githubusercontent.com/scienceguyrob/ioc-techup/master/notebooks/data/commute/before.csv'\n",
        "after_url = 'https://raw.githubusercontent.com/scienceguyrob/ioc-techup/master/notebooks/data/commute/after.csv'\n",
        "\n",
        "# Now simply load the data.\n",
        "before = np.loadtxt(before_url, dtype=np.float, delimiter=',', encoding='utf-8')\n",
        "after = np.loadtxt(after_url, dtype=np.float, delimiter=',', encoding='utf-8')\n",
        "\n",
        "# Print overview details of the data we've obtained.\n",
        "print ('Total number of before data points: ', len(before))\n",
        "print ('Total number of after data points: ', len(after))\n",
        "\n",
        "print(\"Data type of before: \", type(before))\n",
        "print(\"Data type of before: \", type(after))\n",
        "\n",
        "print(\"First element in before: \",before[0])\n",
        "print(\"First element in after: \", after[0], \"\\n\")\n",
        "\n",
        "# Perform mean and sigma computations again for clarity\n",
        "mu_before = np.mean(before)\n",
        "sigma_before = np.std(before, ddof=1)\n",
        "print(\"Mean of data before interface update: \", mu_before, \" minutes.\")\n",
        "print(\"Stdev. of data before interface update: \", sigma_before, \" minutes.\\n\")\n",
        "\n",
        "mu_after = np.mean(after)\n",
        "sigma_after = np.std(after, ddof=1)\n",
        "print(\"Mean of data after interface update: \", mu_after, \" minutes.\")\n",
        "print(\"Stdev. of data after interface update: \", sigma_after, \" minutes.\\n\")\n",
        "\n",
        "# Samples in the data collected after the change.\n",
        "n = len(after)\n",
        "\n",
        "# Standard error in the sample data collected after the interface change.\n",
        "standard_error = sigma_after / np.sqrt(n)\n",
        "print(\"Standard error of the sample data: \", standard_error , \".\")\n",
        "\n",
        "# Now we compute the z-score.\n",
        "z = (mu_after - mu_before) / standard_error  \n",
        "print(\"Z-score for the data: \", z , \".\")  \n",
        "\n",
        "# We use the scipy library to convert the z score into a probability.\n",
        "pvalue = st.norm.cdf(z)\n",
        "\n",
        "print(\"Probability of a mean below \", mu_after, \" is: \", pvalue)\n",
        "print(\"or \", pvalue * 100, \" %\\n\")\n",
        "\n",
        "print(\"Probability of a mean above \", mu_after, \" is: \", 1 - pvalue)\n",
        "print(\"or \", (1-pvalue) * 100, \" %\\n\")\n",
        "\n",
        "tail_probability =  1 - pvalue\n",
        "probability_of_value_as_extreme_as_mu_after = 2 * tail_probability\n",
        "\n",
        "print(\"Probability of a mean at least as extreme as we saw in the sample \")\n",
        "print(\" is given by\", probability_of_value_as_extreme_as_mu_after, \"which is\")\n",
        "print(\"approx: \", 100 * probability_of_value_as_extreme_as_mu_after, \" %.\\n\\n\")\n",
        "\n",
        "\n",
        "alpha = 0.05\n",
        "\n",
        "if probability_of_value_as_extreme_as_mu_after < alpha:\n",
        "  print(\"P-value less then alpha! We reject the null hypothesis.\")\n",
        "  print(\"We accept the alternative hypothesis that interaction time increased.\")\n",
        "else:\n",
        "  print(\"P-value greater than, or equal to alpha! We accept the null hypothesis.\")\n",
        "  print(\"We reject the alternative hypothesis that wait time increased or decreased.\")\n",
        "\n",
        "\n"
      ],
      "execution_count": 0,
      "outputs": [
        {
          "output_type": "stream",
          "text": [
            "Total number of before data points:  100\n",
            "Total number of after data points:  75\n",
            "Data type of before:  <class 'numpy.ndarray'>\n",
            "Data type of before:  <class 'numpy.ndarray'>\n",
            "First element in before:  13.63547062735605\n",
            "First element in after:  13.673036090989726 \n",
            "\n",
            "Mean of data before interface update:  8.787806841434668  minutes.\n",
            "Stdev. of data before interface update:  2.757807948668478  minutes.\n",
            "\n",
            "Mean of data after interface update:  8.978756010902876  minutes.\n",
            "Stdev. of data after interface update:  2.8656821803661856  minutes.\n",
            "\n",
            "Standard error of the sample data:  0.33090047564926617 .\n",
            "Z-score for the data:  0.5770592172572225 .\n",
            "Probability of a mean below  8.978756010902876  is:  0.7180502734512975\n",
            "or  71.80502734512974  %\n",
            "\n",
            "Probability of a mean above  8.978756010902876  is:  0.28194972654870254\n",
            "or  28.194972654870256  %\n",
            "\n",
            "Probability of a mean at least as extreme as we saw in the sample \n",
            " is given by 0.5638994530974051 which is\n",
            "approx:  56.38994530974051  %.\n",
            "\n",
            "\n",
            "P-value greater than, or equal to alpha! We accept the null hypothesis.\n",
            "We reject the alternative hypothesis that wait time increased or decreased.\n"
          ],
          "name": "stdout"
        }
      ]
    },
    {
      "cell_type": "markdown",
      "metadata": {
        "colab_type": "text",
        "id": "Z65tKRO9tJh9"
      },
      "source": [
        "\n",
        "<br/>\n",
        "\n",
        "That's it for Section 4.\n"
      ]
    },
    {
      "cell_type": "markdown",
      "metadata": {
        "id": "5UoeFu9zjrcI",
        "colab_type": "text"
      },
      "source": [
        "<br/>\n",
        "\n",
        "---"
      ]
    }
  ]
}